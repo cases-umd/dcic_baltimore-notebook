{
 "cells": [
  {
   "cell_type": "markdown",
   "metadata": {},
   "source": [
    "<img src=\"dcic.png\">"
   ]
  },
  {
   "cell_type": "markdown",
   "metadata": {},
   "source": [
    "# Mapping Inequality in Baltimore"
   ]
  },
  {
   "cell_type": "markdown",
   "metadata": {},
   "source": [
    "## Introduction \n",
    "\n",
    "After the 1929 Stock Market Crash, thousands of Americans were in danger of home foreclosure. To address this problem and stabilize the market, The Home Owners Loan Coperation was created under the Rooselvelt Administration to asses credibility of families in order to decide to refinance their homes.\n",
    "\n",
    "- Redlining is the process \n",
    "\n",
    "- In particular Baltimore,\n",
    "\n",
    "<img src=\"baltimoremap.png\">\n",
    "\n",
    "- A - \n",
    "- B - \n",
    "- C - \n",
    "- D - \n",
    "\n",
    "Learn more the Mapping Inequality Project [here](https://dsl.richmond.edu/panorama/redlining/#loc=4/36.71/-96.93&opacity=0.8)"
   ]
  },
  {
   "cell_type": "markdown",
   "metadata": {},
   "source": [
    "- This data set\n",
    "- Learning Objectives "
   ]
  },
  {
   "cell_type": "markdown",
   "metadata": {},
   "source": [
    "## 1. Aquiring Data"
   ]
  },
  {
   "cell_type": "markdown",
   "metadata": {},
   "source": [
    "- something about json to csv, how we obtain our csv , rawdata"
   ]
  },
  {
   "cell_type": "markdown",
   "metadata": {},
   "source": [
    "### Importing the Data and Creating a Data Frame"
   ]
  },
  {
   "cell_type": "code",
   "execution_count": 24,
   "metadata": {
    "collapsed": false,
    "scrolled": true
   },
   "outputs": [
    {
     "data": {
      "text/html": [
       "<div>\n",
       "<table border=\"1\" class=\"dataframe\">\n",
       "  <thead>\n",
       "    <tr style=\"text-align: right;\">\n",
       "      <th></th>\n",
       "      <th>Form</th>\n",
       "      <th>State</th>\n",
       "      <th>City</th>\n",
       "      <th>Security_Grade</th>\n",
       "      <th>Area_Number</th>\n",
       "      <th>Terrain_Description</th>\n",
       "      <th>Favorable_Influences</th>\n",
       "      <th>Detrimental_Influences</th>\n",
       "      <th>INHABITANTS_Type</th>\n",
       "      <th>INHABITANTS_Annual_Income</th>\n",
       "      <th>...</th>\n",
       "      <th>INHABITANTS_Population_Increase</th>\n",
       "      <th>INHABITANTS_Population_Decrease</th>\n",
       "      <th>INHABITANTS_Population_Static</th>\n",
       "      <th>BUILDINGS_Types</th>\n",
       "      <th>BUILDINGS_Construction</th>\n",
       "      <th>BUILDINGS_Age</th>\n",
       "      <th>BUILDINGS_Repair</th>\n",
       "      <th>Ten_Fifteen_Desirability</th>\n",
       "      <th>Remarks</th>\n",
       "      <th>Date</th>\n",
       "    </tr>\n",
       "  </thead>\n",
       "  <tbody>\n",
       "    <tr>\n",
       "      <th>0</th>\n",
       "      <td>NS FORM-8 6-1-37</td>\n",
       "      <td>Maryland</td>\n",
       "      <td>Baltimore</td>\n",
       "      <td>A</td>\n",
       "      <td>2.0</td>\n",
       "      <td>Rolling</td>\n",
       "      <td>Fairly new suburban area of homogeneous charac...</td>\n",
       "      <td>None</td>\n",
       "      <td>Substantial Middle Class</td>\n",
       "      <td>$3000 - 5,000</td>\n",
       "      <td>...</td>\n",
       "      <td>Fast</td>\n",
       "      <td>NaN</td>\n",
       "      <td>NaN</td>\n",
       "      <td>Detached an row houses</td>\n",
       "      <td>Brick and frame</td>\n",
       "      <td>1 to 10 years</td>\n",
       "      <td>Good</td>\n",
       "      <td>Upward</td>\n",
       "      <td>A recent development with much room for expans...</td>\n",
       "      <td>May 4,1937</td>\n",
       "    </tr>\n",
       "    <tr>\n",
       "      <th>1</th>\n",
       "      <td>NS FORM-8 6-1-37</td>\n",
       "      <td>Maryland</td>\n",
       "      <td>Baltimore</td>\n",
       "      <td>A</td>\n",
       "      <td>1.0</td>\n",
       "      <td>Undulating</td>\n",
       "      <td>Very nicely planned residential area of medium...</td>\n",
       "      <td>None</td>\n",
       "      <td>Executives, Professional Men</td>\n",
       "      <td>over $5000</td>\n",
       "      <td>...</td>\n",
       "      <td>Moderately Fast</td>\n",
       "      <td>NaN</td>\n",
       "      <td>NaN</td>\n",
       "      <td>Single family detached</td>\n",
       "      <td>Brick and Stone</td>\n",
       "      <td>12 years</td>\n",
       "      <td>Very good</td>\n",
       "      <td>Upward</td>\n",
       "      <td>Mostly fee properties. A few homes valued at $...</td>\n",
       "      <td>May 4,1937</td>\n",
       "    </tr>\n",
       "    <tr>\n",
       "      <th>2</th>\n",
       "      <td>NS FORM-8 6-1-37</td>\n",
       "      <td>Maryland</td>\n",
       "      <td>Baltimore</td>\n",
       "      <td>A</td>\n",
       "      <td>3.0</td>\n",
       "      <td>Rolling</td>\n",
       "      <td>Good residential area. Well planned.</td>\n",
       "      <td>Distance to City</td>\n",
       "      <td>Executives, Professional Men</td>\n",
       "      <td>3500 - 7000</td>\n",
       "      <td>...</td>\n",
       "      <td>Moderately Fast</td>\n",
       "      <td>NaN</td>\n",
       "      <td>NaN</td>\n",
       "      <td>One family detached</td>\n",
       "      <td>Brick, Stone, and Frame</td>\n",
       "      <td>1 to 20 years</td>\n",
       "      <td>Good to excellent</td>\n",
       "      <td>Upward</td>\n",
       "      <td>Principally fee property. This section lies in...</td>\n",
       "      <td>May 4,1937</td>\n",
       "    </tr>\n",
       "    <tr>\n",
       "      <th>3</th>\n",
       "      <td>NS FORM-8 6-1-37</td>\n",
       "      <td>Maryland</td>\n",
       "      <td>Baltimore</td>\n",
       "      <td>A</td>\n",
       "      <td>4.0</td>\n",
       "      <td>Level</td>\n",
       "      <td>Well planned development of fairly</td>\n",
       "      <td>None</td>\n",
       "      <td>Professional and Executives</td>\n",
       "      <td>over $5000</td>\n",
       "      <td>...</td>\n",
       "      <td>Slowly</td>\n",
       "      <td>NaN</td>\n",
       "      <td>NaN</td>\n",
       "      <td>One  family</td>\n",
       "      <td>Brick, Stone, and Frame</td>\n",
       "      <td>10 years</td>\n",
       "      <td>Good</td>\n",
       "      <td>Upward</td>\n",
       "      <td>All fee property</td>\n",
       "      <td>May 4,1937</td>\n",
       "    </tr>\n",
       "    <tr>\n",
       "      <th>4</th>\n",
       "      <td>NS FORM-8 6-1-37</td>\n",
       "      <td>Maryland</td>\n",
       "      <td>Baltimore</td>\n",
       "      <td>A</td>\n",
       "      <td>5.0</td>\n",
       "      <td>Undulating</td>\n",
       "      <td>Desirable residential section. Good quality, m...</td>\n",
       "      <td>None</td>\n",
       "      <td>Executives, Professional Men</td>\n",
       "      <td>$3,500 - $10,000</td>\n",
       "      <td>...</td>\n",
       "      <td>Moderately Fast</td>\n",
       "      <td>NaN</td>\n",
       "      <td>NaN</td>\n",
       "      <td>One family detached</td>\n",
       "      <td>Brick and Stone</td>\n",
       "      <td>1 to 20 years</td>\n",
       "      <td>Good</td>\n",
       "      <td>Upward</td>\n",
       "      <td>Merridale only recently developed. Prices do n...</td>\n",
       "      <td>NaN</td>\n",
       "    </tr>\n",
       "  </tbody>\n",
       "</table>\n",
       "<p>5 rows × 26 columns</p>\n",
       "</div>"
      ],
      "text/plain": [
       "               Form     State        City Security_Grade  Area_Number  \\\n",
       "0  NS FORM-8 6-1-37  Maryland  Baltimore               A          2.0   \n",
       "1  NS FORM-8 6-1-37  Maryland  Baltimore               A          1.0   \n",
       "2  NS FORM-8 6-1-37  Maryland  Baltimore              A           3.0   \n",
       "3  NS FORM-8 6-1-37  Maryland  Baltimore               A          4.0   \n",
       "4  NS FORM-8 6-1-37  Maryland  Baltimore              A           5.0   \n",
       "\n",
       "  Terrain_Description                               Favorable_Influences  \\\n",
       "0             Rolling  Fairly new suburban area of homogeneous charac...   \n",
       "1         Undulating   Very nicely planned residential area of medium...   \n",
       "2             Rolling               Good residential area. Well planned.   \n",
       "3               Level                 Well planned development of fairly   \n",
       "4         Undulating   Desirable residential section. Good quality, m...   \n",
       "\n",
       "  Detrimental_Influences              INHABITANTS_Type  \\\n",
       "0                   None      Substantial Middle Class   \n",
       "1                   None  Executives, Professional Men   \n",
       "2       Distance to City  Executives, Professional Men   \n",
       "3                   None  Professional and Executives    \n",
       "4                   None  Executives, Professional Men   \n",
       "\n",
       "  INHABITANTS_Annual_Income     ...     INHABITANTS_Population_Increase  \\\n",
       "0             $3000 - 5,000     ...                               Fast    \n",
       "1                over $5000     ...                     Moderately Fast   \n",
       "2               3500 - 7000     ...                     Moderately Fast   \n",
       "3                over $5000     ...                              Slowly   \n",
       "4          $3,500 - $10,000     ...                     Moderately Fast   \n",
       "\n",
       "   INHABITANTS_Population_Decrease INHABITANTS_Population_Static  \\\n",
       "0                              NaN                           NaN   \n",
       "1                              NaN                           NaN   \n",
       "2                              NaN                           NaN   \n",
       "3                              NaN                           NaN   \n",
       "4                              NaN                           NaN   \n",
       "\n",
       "          BUILDINGS_Types   BUILDINGS_Construction  BUILDINGS_Age  \\\n",
       "0  Detached an row houses          Brick and frame  1 to 10 years   \n",
       "1  Single family detached          Brick and Stone       12 years   \n",
       "2     One family detached  Brick, Stone, and Frame  1 to 20 years   \n",
       "3             One  family  Brick, Stone, and Frame       10 years   \n",
       "4     One family detached          Brick and Stone  1 to 20 years   \n",
       "\n",
       "    BUILDINGS_Repair Ten_Fifteen_Desirability  \\\n",
       "0               Good                   Upward   \n",
       "1          Very good                   Upward   \n",
       "2  Good to excellent                   Upward   \n",
       "3               Good                   Upward   \n",
       "4               Good                   Upward   \n",
       "\n",
       "                                             Remarks        Date  \n",
       "0  A recent development with much room for expans...  May 4,1937  \n",
       "1  Mostly fee properties. A few homes valued at $...  May 4,1937  \n",
       "2  Principally fee property. This section lies in...  May 4,1937  \n",
       "3                                   All fee property  May 4,1937  \n",
       "4  Merridale only recently developed. Prices do n...         NaN  \n",
       "\n",
       "[5 rows x 26 columns]"
      ]
     },
     "execution_count": 24,
     "metadata": {},
     "output_type": "execute_result"
    }
   ],
   "source": [
    "# Loads the Pandas library \n",
    "import pandas as pd\n",
    "\n",
    "# Creates data frame (df) by reading in the Baltimore csv\n",
    "df = pd.read_csv(\"AD_Data_BaltimoreProject.csv\")\n",
    "df.head()"
   ]
  },
  {
   "cell_type": "markdown",
   "metadata": {},
   "source": [
    "- note on refering to the rows and columns - entities/attributes , observatons/variables"
   ]
  },
  {
   "cell_type": "markdown",
   "metadata": {},
   "source": [
    "- form picture and corresponding attributes "
   ]
  },
  {
   "cell_type": "code",
   "execution_count": 6,
   "metadata": {
    "collapsed": true
   },
   "outputs": [
    {
     "data": {
      "text/plain": [
       "Form                                object\n",
       "State                               object\n",
       "City                                object\n",
       "Security_Grade                      object\n",
       "Area_Number                        float64\n",
       "Terrain_Description                 object\n",
       "Favorable_Influences                object\n",
       "Detrimental_Influences              object\n",
       "INHABITANTS_Type                    object\n",
       "INHABITANTS_Annual_Income           object\n",
       "INHABITANTS_Foreignborn             object\n",
       "INHABITANTS_F                      float64\n",
       "INHABITANTS_Negro                   object\n",
       "INHABITANTS_N                       object\n",
       "INHABITANTS_Infiltration            object\n",
       "INHABITANTS_Relief_Families         object\n",
       "INHABITANTS_Population_Increase     object\n",
       "INHABITANTS_Population_Decrease     object\n",
       "INHABITANTS_Population_Static       object\n",
       "BUILDINGS_Types                     object\n",
       "BUILDINGS_Construction              object\n",
       "BUILDINGS_Age                       object\n",
       "BUILDINGS_Repair                    object\n",
       "Ten_Fifteen_Desirability            object\n",
       "Remarks                             object\n",
       "Date                                object\n",
       "dtype: object"
      ]
     },
     "execution_count": 6,
     "metadata": {},
     "output_type": "execute_result"
    }
   ],
   "source": [
    "# Lists all the columns of the data frame\n",
    "df.dtypes"
   ]
  },
  {
   "cell_type": "markdown",
   "metadata": {},
   "source": [
    "## 2. Data Cleaning "
   ]
  },
  {
   "cell_type": "markdown",
   "metadata": {},
   "source": [
    "### Handling Similar Text Values "
   ]
  },
  {
   "cell_type": "markdown",
   "metadata": {},
   "source": [
    "- Text"
   ]
  },
  {
   "cell_type": "code",
   "execution_count": 24,
   "metadata": {
    "collapsed": true
   },
   "outputs": [
    {
     "data": {
      "text/plain": [
       "0           No\n",
       "1         None\n",
       "2         None\n",
       "3         None\n",
       "4         None\n",
       "5          NaN\n",
       "6           No\n",
       "7           No\n",
       "8           No\n",
       "9        Small\n",
       "10    Very few\n",
       "11          No\n",
       "12          No\n",
       "13          No\n",
       "14          No\n",
       "15     Mixture\n",
       "16        None\n",
       "17         Few\n",
       "18          No\n",
       "19          No\n",
       "20        None\n",
       "21        None\n",
       "22          No\n",
       "23          No\n",
       "24          No\n",
       "25         NaN\n",
       "26         NaN\n",
       "27         NaN\n",
       "28          No\n",
       "29       Small\n",
       "30        None\n",
       "31          No\n",
       "32    Mixture \n",
       "33     Mixture\n",
       "34     Mixture\n",
       "35          No\n",
       "36     Mixture\n",
       "37     Mixture\n",
       "38     Mixture\n",
       "39     Mixture\n",
       "40     Mixture\n",
       "41     Nominal\n",
       "42         NaN\n",
       "43         NaN\n",
       "44     Nominal\n",
       "45         NaN\n",
       "46         NaN\n",
       "47         NaN\n",
       "48         NaN\n",
       "49         NaN\n",
       "50    Italians\n",
       "51      Polish\n",
       "52     Mixture\n",
       "53     Mixture\n",
       "54     Mixture\n",
       "55     Mixture\n",
       "56     Mixture\n",
       "Name: INHABITANTS_Foreignborn, dtype: object"
      ]
     },
     "execution_count": 24,
     "metadata": {},
     "output_type": "execute_result"
    }
   ],
   "source": [
    "df.INHABITANTS_Foreignborn"
   ]
  },
  {
   "cell_type": "code",
   "execution_count": 31,
   "metadata": {
    "collapsed": true
   },
   "outputs": [
    {
     "data": {
      "text/plain": [
       "0     None\n",
       "1     None\n",
       "2     None\n",
       "3     None\n",
       "4     None\n",
       "5      Yes\n",
       "6     None\n",
       "7     None\n",
       "8     None\n",
       "9      Yes\n",
       "10     Yes\n",
       "11    None\n",
       "12    None\n",
       "13    None\n",
       "14    None\n",
       "15     Yes\n",
       "16    None\n",
       "17     Yes\n",
       "18    None\n",
       "19    None\n",
       "20    None\n",
       "21    None\n",
       "22    None\n",
       "23    None\n",
       "24    None\n",
       "25     Yes\n",
       "26     Yes\n",
       "27     Yes\n",
       "28    None\n",
       "29     Yes\n",
       "30    None\n",
       "31    None\n",
       "32     Yes\n",
       "33     Yes\n",
       "34     Yes\n",
       "35    None\n",
       "36     Yes\n",
       "37     Yes\n",
       "38     Yes\n",
       "39     Yes\n",
       "40     Yes\n",
       "41     Yes\n",
       "42     Yes\n",
       "43     Yes\n",
       "44     Yes\n",
       "45     Yes\n",
       "46     Yes\n",
       "47     Yes\n",
       "48     Yes\n",
       "49     Yes\n",
       "50     Yes\n",
       "51     Yes\n",
       "52     Yes\n",
       "53     Yes\n",
       "54     Yes\n",
       "55     Yes\n",
       "56     Yes\n",
       "Name: INHABITANTS_Foreignborn, dtype: object"
      ]
     },
     "execution_count": 31,
     "metadata": {},
     "output_type": "execute_result"
    }
   ],
   "source": [
    "# Replaces the values of 'No' with 'None'\n",
    "df['INHABITANTS_Foreignborn'] = df['INHABITANTS_Foreignborn'].replace('No', 'None')\n",
    "\n",
    "# Replaces all other values with 'Yes'\n",
    "for value in df['INHABITANTS_Foreignborn']:\n",
    "    if value != 'None':\n",
    "        df['INHABITANTS_Foreignborn'] = df['INHABITANTS_Foreignborn'].replace(value, 'Yes')"
   ]
  },
  {
   "cell_type": "code",
   "execution_count": 5,
   "metadata": {
    "collapsed": false
   },
   "outputs": [],
   "source": [
    "no_words = ['No.','no', 'none', 'No', 'No.']\n",
    "\n",
    "for word in no_words:\n",
    "    df['Detrimental_Influences'] = df['Detrimental_Influences'].replace( word , 'None')"
   ]
  },
  {
   "cell_type": "code",
   "execution_count": 6,
   "metadata": {
    "collapsed": true
   },
   "outputs": [
    {
     "data": {
      "text/plain": [
       "0                                                  None\n",
       "1                                                  None\n",
       "2                                      Distance to City\n",
       "3                                                  None\n",
       "4                                                  None\n",
       "5                                                   NaN\n",
       "6                                                  None\n",
       "7                                                  None\n",
       "8             Few streets of property in poor condition\n",
       "9                                                  None\n",
       "10                                                 None\n",
       "11                              Built on filled ground.\n",
       "12                                                 None\n",
       "13                                                 None\n",
       "14                           Distance to center of city\n",
       "15                                                 None\n",
       "16                                                 None\n",
       "17        Distances to commercial area. Narrow streets.\n",
       "18                                                 None\n",
       "19             None except distances to center of city.\n",
       "20                                                 None\n",
       "21                                                 None\n",
       "22                                                 None\n",
       "23                           Distance to center of city\n",
       "24                           Distance to center of city\n",
       "25                           Distance to center of city\n",
       "26                                                  NaN\n",
       "27                           Distance to center of city\n",
       "28          Old style architecture. Heavy obsolescence \n",
       "29                                                 None\n",
       "                            ...                        \n",
       "31        Bad location. Principally poor transportation\n",
       "32                        Heavy traffic through section\n",
       "33                                                  NaN\n",
       "34                       Heavy obsolescence of property\n",
       "35                                                 None\n",
       "36    Substantial age and disadvantages of industry ...\n",
       "37    Distance to center of city. Smoke and noise fr...\n",
       "38                               Old style architecture\n",
       "39    Industrial plants. Continuing obsolescence of ...\n",
       "40    Obsolescence and negro encroachment. Ground re...\n",
       "41         Continuing obsolescence of old style houses.\n",
       "42             A mediocre section of cheap construction\n",
       "43                                   Cheap construction\n",
       "44                           Distance to center of city\n",
       "45                          Loss of RR from the section\n",
       "46                                                  NaN\n",
       "47                                                  NaN\n",
       "48                                                  NaN\n",
       "49                                                  NaN\n",
       "50    Heavy concentration of foreigners. Property is...\n",
       "51    Mixture of foreign born. Disadvantage of indus...\n",
       "52    Obsolescence. Negro concentration. Excessive G...\n",
       "53         Heavy obsolescence. Industrial encroachment.\n",
       "54    Houses in very bad condition. Many alley prope...\n",
       "55    Interspersed with b business. Entire ward zone...\n",
       "56                                                  NaN\n",
       "57    Heavy obsolescence of residential property. Bu...\n",
       "58                                                  NaN\n",
       "59    Heavy obsolescence of residential property. Bu...\n",
       "60                                                  NaN\n",
       "Name: Detrimental_Influences, dtype: object"
      ]
     },
     "execution_count": 6,
     "metadata": {},
     "output_type": "execute_result"
    }
   ],
   "source": [
    "df.Detrimental_Influences"
   ]
  },
  {
   "cell_type": "markdown",
   "metadata": {
    "collapsed": true
   },
   "source": [
    "- Note on functions"
   ]
  },
  {
   "cell_type": "code",
   "execution_count": null,
   "metadata": {
    "collapsed": true
   },
   "outputs": [],
   "source": [
    "for word in words_to_replace:\n",
    "    df['INHABITANTS_Negro'] = df['INHABITANTS_Negro'].replace( word , 'None')\n",
    "    \n",
    "for word in words_to_replace:\n",
    "    df['INHABITANTS_Infiltration '] = df['INHABITANTS_Infiltration'].replace( word , 'None')\n",
    "    "
   ]
  },
  {
   "cell_type": "code",
   "execution_count": 7,
   "metadata": {
    "collapsed": true
   },
   "outputs": [],
   "source": [
    "small_words = ['Nominal','nominal', 'Small','small','Minimum', 'minimum','minimal', 'Very few']\n",
    "\n",
    "for word in small_words:\n",
    "    df ['INHABITANTS_Negro'] = df['INHABITANTS_Negro'].replace( word , 'Few')\n",
    "\n",
    "for word in small_words:\n",
    "    df ['INHABITANTS_Foreignborn'] = df['INHABITANTS_Foreignborn'].replace( word , 'Few')"
   ]
  },
  {
   "cell_type": "code",
   "execution_count": 8,
   "metadata": {
    "collapsed": false
   },
   "outputs": [],
   "source": [
    "def replace_values(attribute, new_word, words_to_replace):\n",
    "    for word in words_to_replace:\n",
    "        df[attribute] = df[attribute].replace(word, new_word) \n",
    "\n",
    "# example run\n",
    "replace_values('INHABITANTS_Negro', 'None', no_words)"
   ]
  },
  {
   "cell_type": "code",
   "execution_count": 9,
   "metadata": {
    "collapsed": true
   },
   "outputs": [
    {
     "data": {
      "text/plain": [
       "0     None\n",
       "1     None\n",
       "2     None\n",
       "3     None\n",
       "4     None\n",
       "5      NaN\n",
       "6     None\n",
       "7     None\n",
       "8     None\n",
       "9     None\n",
       "10    None\n",
       "11    None\n",
       "12    None\n",
       "13    None\n",
       "14    None\n",
       "15    None\n",
       "16    None\n",
       "17    None\n",
       "18     Yes\n",
       "19    None\n",
       "20    None\n",
       "21    None\n",
       "22    None\n",
       "23    None\n",
       "24    None\n",
       "25     NaN\n",
       "26     NaN\n",
       "27     NaN\n",
       "28     Few\n",
       "29    None\n",
       "      ... \n",
       "31    None\n",
       "32     Yes\n",
       "33     Yes\n",
       "34    None\n",
       "35    None\n",
       "36     Yes\n",
       "37    None\n",
       "38     Yes\n",
       "39    None\n",
       "40     Yes\n",
       "41    None\n",
       "42     NaN\n",
       "43     NaN\n",
       "44     NaN\n",
       "45     NaN\n",
       "46     NaN\n",
       "47     NaN\n",
       "48     NaN\n",
       "49     NaN\n",
       "50     Yes\n",
       "51     Yes\n",
       "52     Yes\n",
       "53     Yes\n",
       "54     Yes\n",
       "55     Yes\n",
       "56     NaN\n",
       "57     Yes\n",
       "58     NaN\n",
       "59     Yes\n",
       "60     NaN\n",
       "Name: INHABITANTS_Negro, dtype: object"
      ]
     },
     "execution_count": 9,
     "metadata": {},
     "output_type": "execute_result"
    }
   ],
   "source": [
    "df.INHABITANTS_Negro"
   ]
  },
  {
   "cell_type": "markdown",
   "metadata": {},
   "source": [
    "### Encoding Categorical Data"
   ]
  },
  {
   "cell_type": "markdown",
   "metadata": {},
   "source": [
    "- Note categorical degrees "
   ]
  },
  {
   "cell_type": "code",
   "execution_count": null,
   "metadata": {
    "collapsed": true
   },
   "outputs": [],
   "source": [
    "# Will define degrees of speed as very slowly, slowly, moderately, moderately fast, fast\n",
    "\n",
    "# Defines values to replace in the table \n",
    "very_slowly = ['Very Slowly', 'very slowly', 'very Slowly']\n",
    "slowly = ['slowly', 'fairly slowly']\n",
    "moderately = ['moderately']\n",
    "moderately_fast = ['Moderately Fast', 'moderately Fast', 'moderately fast']\n",
    "fast = ['very fast', 'Very Fast', 'fast']\n",
    "\n",
    "# Applies function to obtain our new values \n",
    "replace_values('INHABITANTS_Population_Increase', 'Very slowly', very_slowly)\n",
    "replace_values('INHABITANTS_Population_Increase', 'Slowly', slowly)\n",
    "replace_values('INHABITANTS_Population_Increase', 'Moderately', moderately )\n",
    "replace_values('INHABITANTS_Population_Increase', 'Moderately fast', moderately_fast)\n",
    "replace_values('INHABITANTS_Population_Increase', 'Moderately fast', moderately_fast)\n",
    "replace_values('INHABITANTS_Population_Increase', 'Fast', fast)\n"
   ]
  },
  {
   "cell_type": "code",
   "execution_count": 11,
   "metadata": {
    "collapsed": true
   },
   "outputs": [
    {
     "data": {
      "text/plain": [
       "0               Fast \n",
       "1     Moderately Fast\n",
       "2     Moderately Fast\n",
       "3              Slowly\n",
       "4     Moderately Fast\n",
       "5                 NaN\n",
       "6                 NaN\n",
       "7              Slowly\n",
       "8     Moderately Fast\n",
       "9     Moderately Fast\n",
       "10                NaN\n",
       "11             Slowly\n",
       "12             Slowly\n",
       "13         Moderately\n",
       "14             Slowly\n",
       "15              Fast \n",
       "16    Moderately fast\n",
       "17         Moderately\n",
       "18             Slowly\n",
       "19             Slowly\n",
       "20                NaN\n",
       "21             Slowly\n",
       "22              Fast \n",
       "23             Slowly\n",
       "24                NaN\n",
       "25                NaN\n",
       "26                NaN\n",
       "27                NaN\n",
       "28                NaN\n",
       "29             Slowly\n",
       "           ...       \n",
       "31                NaN\n",
       "32        Very slowly\n",
       "33        Fairly fast\n",
       "34                NaN\n",
       "35             Slowly\n",
       "36                NaN\n",
       "37             Slowly\n",
       "38                NaN\n",
       "39                NaN\n",
       "40                NaN\n",
       "41                NaN\n",
       "42                NaN\n",
       "43                NaN\n",
       "44                NaN\n",
       "45                NaN\n",
       "46                NaN\n",
       "47                NaN\n",
       "48                NaN\n",
       "49                NaN\n",
       "50                NaN\n",
       "51                NaN\n",
       "52                NaN\n",
       "53                NaN\n",
       "54                NaN\n",
       "55                NaN\n",
       "56                NaN\n",
       "57                NaN\n",
       "58                NaN\n",
       "59                NaN\n",
       "60                NaN\n",
       "Name: INHABITANTS_Population_Increase, dtype: object"
      ]
     },
     "execution_count": 11,
     "metadata": {},
     "output_type": "execute_result"
    }
   ],
   "source": [
    "df.INHABITANTS_Population_Increase"
   ]
  },
  {
   "cell_type": "markdown",
   "metadata": {},
   "source": [
    "- Note on categorical to discrete by assigning values "
   ]
  },
  {
   "cell_type": "code",
   "execution_count": 25,
   "metadata": {
    "collapsed": false,
    "scrolled": true
   },
   "outputs": [],
   "source": [
    "# Creates a new column in the data frame called 'Population_Increase_rank' and assigns default value as empty string\n",
    "df.insert(17, 'Population_Increase_rank', \" \")"
   ]
  },
  {
   "cell_type": "code",
   "execution_count": 26,
   "metadata": {
    "collapsed": false
   },
   "outputs": [],
   "source": [
    "# Does not work - probably need to duplicate the entire column instead and then replace values \n",
    "for value in df['INHABITANTS_Population_Increase']:\n",
    "    if value == 'Very slowly':\n",
    "     replace_values('Population_Increase_rank', '1', \"\")        "
   ]
  },
  {
   "cell_type": "code",
   "execution_count": 28,
   "metadata": {
    "collapsed": true
   },
   "outputs": [
    {
     "data": {
      "text/plain": [
       "0      \n",
       "1      \n",
       "2      \n",
       "3      \n",
       "4      \n",
       "5      \n",
       "6      \n",
       "7      \n",
       "8      \n",
       "9      \n",
       "10     \n",
       "11     \n",
       "12     \n",
       "13     \n",
       "14     \n",
       "15     \n",
       "16     \n",
       "17     \n",
       "18     \n",
       "19     \n",
       "20     \n",
       "21     \n",
       "22     \n",
       "23     \n",
       "24     \n",
       "25     \n",
       "26     \n",
       "27     \n",
       "28     \n",
       "29     \n",
       "     ..\n",
       "31     \n",
       "32     \n",
       "33     \n",
       "34     \n",
       "35     \n",
       "36     \n",
       "37     \n",
       "38     \n",
       "39     \n",
       "40     \n",
       "41     \n",
       "42     \n",
       "43     \n",
       "44     \n",
       "45     \n",
       "46     \n",
       "47     \n",
       "48     \n",
       "49     \n",
       "50     \n",
       "51     \n",
       "52     \n",
       "53     \n",
       "54     \n",
       "55     \n",
       "56     \n",
       "57     \n",
       "58     \n",
       "59     \n",
       "60     \n",
       "Name: Population_Increase_rank, dtype: object"
      ]
     },
     "execution_count": 28,
     "metadata": {},
     "output_type": "execute_result"
    }
   ],
   "source": [
    "df.Population_Increase_rank"
   ]
  },
  {
   "cell_type": "markdown",
   "metadata": {},
   "source": [
    "- note on conditional statements "
   ]
  },
  {
   "cell_type": "markdown",
   "metadata": {},
   "source": [
    "### Building Age "
   ]
  },
  {
   "cell_type": "markdown",
   "metadata": {},
   "source": [
    "- note on parsing text to extract data "
   ]
  },
  {
   "cell_type": "code",
   "execution_count": null,
   "metadata": {
    "collapsed": true
   },
   "outputs": [],
   "source": []
  },
  {
   "cell_type": "markdown",
   "metadata": {
    "collapsed": true
   },
   "source": [
    "- note on regular expressions "
   ]
  },
  {
   "cell_type": "markdown",
   "metadata": {},
   "source": [
    "### Handling Dates "
   ]
  },
  {
   "cell_type": "markdown",
   "metadata": {
    "collapsed": true
   },
   "source": [
    "- note seperating the date into three seperate columns because it contains three attributes not one"
   ]
  },
  {
   "cell_type": "code",
   "execution_count": null,
   "metadata": {
    "collapsed": true
   },
   "outputs": [],
   "source": []
  },
  {
   "cell_type": "markdown",
   "metadata": {},
   "source": [
    "- dates in pandas"
   ]
  },
  {
   "cell_type": "markdown",
   "metadata": {},
   "source": [
    "## 3. Data Manipulation "
   ]
  },
  {
   "cell_type": "markdown",
   "metadata": {},
   "source": [
    "- "
   ]
  },
  {
   "cell_type": "markdown",
   "metadata": {},
   "source": [
    "### Income "
   ]
  },
  {
   "cell_type": "code",
   "execution_count": 2,
   "metadata": {
    "collapsed": true
   },
   "outputs": [],
   "source": [
    "#Annual_income\n",
    "# split the range into max and min "
   ]
  },
  {
   "cell_type": "markdown",
   "metadata": {},
   "source": [
    "### Sorting "
   ]
  },
  {
   "cell_type": "code",
   "execution_count": null,
   "metadata": {
    "collapsed": true
   },
   "outputs": [],
   "source": [
    "# Area Number "
   ]
  },
  {
   "cell_type": "markdown",
   "metadata": {},
   "source": [
    "### Grouping "
   ]
  },
  {
   "cell_type": "markdown",
   "metadata": {},
   "source": [
    "## 4. Data Analysis "
   ]
  },
  {
   "cell_type": "markdown",
   "metadata": {},
   "source": [
    "### Text Analysis "
   ]
  },
  {
   "cell_type": "markdown",
   "metadata": {},
   "source": [
    "## 5. Data Visualization "
   ]
  },
  {
   "cell_type": "markdown",
   "metadata": {},
   "source": [
    "<img src=\"redl.png\">"
   ]
  }
 ],
 "metadata": {
  "kernelspec": {
   "display_name": "Python 3",
   "language": "python",
   "name": "python3"
  },
  "language_info": {
   "codemirror_mode": {
    "name": "ipython",
    "version": 3
   },
   "file_extension": ".py",
   "mimetype": "text/x-python",
   "name": "python",
   "nbconvert_exporter": "python",
   "pygments_lexer": "ipython3",
   "version": "3.6.0"
  }
 },
 "nbformat": 4,
 "nbformat_minor": 2
}
