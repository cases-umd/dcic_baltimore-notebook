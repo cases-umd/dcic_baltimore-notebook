{
 "cells": [
  {
   "cell_type": "markdown",
   "metadata": {},
   "source": [
    "<img src=\"dcic.png\">"
   ]
  },
  {
   "cell_type": "markdown",
   "metadata": {},
   "source": [
    "# Mapping Inequality in Baltimore"
   ]
  },
  {
   "cell_type": "markdown",
   "metadata": {},
   "source": [
    "## Introduction \n",
    "\n",
    "After the 1929 Stock Market Crash, thousands of Americans were in danger of home foreclosure. To address this problem and stabilize the market, The Home Owners Loan Coperation was created under the Rooselvelt Administration to asses credibility of families in order to decide to refinance their homes.\n",
    "\n",
    "- Redlining is the process \n",
    "\n",
    "- In particular Baltimore,\n",
    "\n",
    "<img src=\"baltimoremap-min.png\" width=400>\n",
    "\n",
    "\n",
    "Learn more the Mapping Inequality Project [here](https://dsl.richmond.edu/panorama/redlining/#loc=4/36.71/-96.93&opacity=0.8)"
   ]
  },
  {
   "cell_type": "markdown",
   "metadata": {},
   "source": [
    "- This data set\n",
    "- Learning Objectives "
   ]
  },
  {
   "cell_type": "markdown",
   "metadata": {},
   "source": [
    "## 1. Aquiring Data"
   ]
  },
  {
   "cell_type": "markdown",
   "metadata": {},
   "source": [
    "Every form contains the characteristics of a particular section indicated by the security grade map. The fields of each form was transcribed and stored in a json format and converted into a csv."
   ]
  },
  {
   "cell_type": "markdown",
   "metadata": {},
   "source": [
    "A data frame is a table where every row represents a single unique object and every column represents characteristics of these objects. We can use the pandas library to read our comma seperated file (csv) and create a data frame to prepare the data for analysis."
   ]
  },
  {
   "cell_type": "markdown",
   "metadata": {},
   "source": [
    "### Importing the Data and Creating a Data Frame"
   ]
  },
  {
   "cell_type": "code",
   "execution_count": 18,
   "metadata": {
    "collapsed": false,
    "scrolled": true
   },
   "outputs": [
    {
     "data": {
      "text/html": [
       "<div>\n",
       "<table border=\"1\" class=\"dataframe\">\n",
       "  <thead>\n",
       "    <tr style=\"text-align: right;\">\n",
       "      <th></th>\n",
       "      <th>Form</th>\n",
       "      <th>State</th>\n",
       "      <th>City</th>\n",
       "      <th>Security_Grade</th>\n",
       "      <th>Area_Number</th>\n",
       "      <th>Terrain_Description</th>\n",
       "      <th>Favorable_Influences</th>\n",
       "      <th>Detrimental_Influences</th>\n",
       "      <th>INHABITANTS_Type</th>\n",
       "      <th>INHABITANTS_Annual_Income</th>\n",
       "      <th>...</th>\n",
       "      <th>INHABITANTS_Population_Increase</th>\n",
       "      <th>INHABITANTS_Population_Decrease</th>\n",
       "      <th>INHABITANTS_Population_Static</th>\n",
       "      <th>BUILDINGS_Types</th>\n",
       "      <th>BUILDINGS_Construction</th>\n",
       "      <th>BUILDINGS_Age</th>\n",
       "      <th>BUILDINGS_Repair</th>\n",
       "      <th>Ten_Fifteen_Desirability</th>\n",
       "      <th>Remarks</th>\n",
       "      <th>Date</th>\n",
       "    </tr>\n",
       "  </thead>\n",
       "  <tbody>\n",
       "    <tr>\n",
       "      <th>0</th>\n",
       "      <td>NS FORM-8 6-1-37</td>\n",
       "      <td>Maryland</td>\n",
       "      <td>Baltimore</td>\n",
       "      <td>A</td>\n",
       "      <td>2</td>\n",
       "      <td>Rolling</td>\n",
       "      <td>Fairly new suburban area of homogeneous charac...</td>\n",
       "      <td>None</td>\n",
       "      <td>Substantial Middle Class</td>\n",
       "      <td>$3000 - 5,000</td>\n",
       "      <td>...</td>\n",
       "      <td>Fast</td>\n",
       "      <td>NaN</td>\n",
       "      <td>NaN</td>\n",
       "      <td>Detached an row houses</td>\n",
       "      <td>Brick and frame</td>\n",
       "      <td>1 to 10 years</td>\n",
       "      <td>Good</td>\n",
       "      <td>Upward</td>\n",
       "      <td>A recent development with much room for expans...</td>\n",
       "      <td>May 4,1937</td>\n",
       "    </tr>\n",
       "    <tr>\n",
       "      <th>1</th>\n",
       "      <td>NS FORM-8 6-1-37</td>\n",
       "      <td>Maryland</td>\n",
       "      <td>Baltimore</td>\n",
       "      <td>A</td>\n",
       "      <td>1</td>\n",
       "      <td>Undulating</td>\n",
       "      <td>Very nicely planned residential area of medium...</td>\n",
       "      <td>None</td>\n",
       "      <td>Executives, Professional Men</td>\n",
       "      <td>over $5000</td>\n",
       "      <td>...</td>\n",
       "      <td>Moderately Fast</td>\n",
       "      <td>NaN</td>\n",
       "      <td>NaN</td>\n",
       "      <td>Single family detached</td>\n",
       "      <td>Brick and Stone</td>\n",
       "      <td>12 years</td>\n",
       "      <td>Very good</td>\n",
       "      <td>Upward</td>\n",
       "      <td>Mostly fee properties. A few homes valued at $...</td>\n",
       "      <td>May 4,1937</td>\n",
       "    </tr>\n",
       "    <tr>\n",
       "      <th>2</th>\n",
       "      <td>NS FORM-8 6-1-37</td>\n",
       "      <td>Maryland</td>\n",
       "      <td>Baltimore</td>\n",
       "      <td>A</td>\n",
       "      <td>3</td>\n",
       "      <td>Rolling</td>\n",
       "      <td>Good residential area. Well planned.</td>\n",
       "      <td>Distance to City</td>\n",
       "      <td>Executives, Professional Men</td>\n",
       "      <td>3500 - 7000</td>\n",
       "      <td>...</td>\n",
       "      <td>Moderately Fast</td>\n",
       "      <td>NaN</td>\n",
       "      <td>NaN</td>\n",
       "      <td>One family detached</td>\n",
       "      <td>Brick, Stone, and Frame</td>\n",
       "      <td>1 to 20 years</td>\n",
       "      <td>Good to excellent</td>\n",
       "      <td>Upward</td>\n",
       "      <td>Principally fee property. This section lies in...</td>\n",
       "      <td>May 4,1937</td>\n",
       "    </tr>\n",
       "  </tbody>\n",
       "</table>\n",
       "<p>3 rows × 26 columns</p>\n",
       "</div>"
      ],
      "text/plain": [
       "               Form     State        City Security_Grade  Area_Number  \\\n",
       "0  NS FORM-8 6-1-37  Maryland  Baltimore               A            2   \n",
       "1  NS FORM-8 6-1-37  Maryland  Baltimore               A            1   \n",
       "2  NS FORM-8 6-1-37  Maryland  Baltimore              A             3   \n",
       "\n",
       "  Terrain_Description                               Favorable_Influences  \\\n",
       "0             Rolling  Fairly new suburban area of homogeneous charac...   \n",
       "1         Undulating   Very nicely planned residential area of medium...   \n",
       "2             Rolling               Good residential area. Well planned.   \n",
       "\n",
       "  Detrimental_Influences              INHABITANTS_Type  \\\n",
       "0                   None      Substantial Middle Class   \n",
       "1                   None  Executives, Professional Men   \n",
       "2       Distance to City  Executives, Professional Men   \n",
       "\n",
       "  INHABITANTS_Annual_Income     ...     INHABITANTS_Population_Increase  \\\n",
       "0             $3000 - 5,000     ...                               Fast    \n",
       "1                over $5000     ...                     Moderately Fast   \n",
       "2               3500 - 7000     ...                     Moderately Fast   \n",
       "\n",
       "   INHABITANTS_Population_Decrease INHABITANTS_Population_Static  \\\n",
       "0                              NaN                           NaN   \n",
       "1                              NaN                           NaN   \n",
       "2                              NaN                           NaN   \n",
       "\n",
       "          BUILDINGS_Types   BUILDINGS_Construction  BUILDINGS_Age  \\\n",
       "0  Detached an row houses          Brick and frame  1 to 10 years   \n",
       "1  Single family detached          Brick and Stone       12 years   \n",
       "2     One family detached  Brick, Stone, and Frame  1 to 20 years   \n",
       "\n",
       "    BUILDINGS_Repair Ten_Fifteen_Desirability  \\\n",
       "0               Good                   Upward   \n",
       "1          Very good                   Upward   \n",
       "2  Good to excellent                   Upward   \n",
       "\n",
       "                                             Remarks        Date  \n",
       "0  A recent development with much room for expans...  May 4,1937  \n",
       "1  Mostly fee properties. A few homes valued at $...  May 4,1937  \n",
       "2  Principally fee property. This section lies in...  May 4,1937  \n",
       "\n",
       "[3 rows x 26 columns]"
      ]
     },
     "execution_count": 18,
     "metadata": {},
     "output_type": "execute_result"
    }
   ],
   "source": [
    "# Loads the Pandas library \n",
    "import pandas as pd\n",
    "\n",
    "# Creates data frame named df by reading in the Baltimore csv\n",
    "df = pd.read_csv(\"AD_Data_BaltimoreProject.csv\")\n",
    "df.head(n=3)"
   ]
  },
  {
   "cell_type": "markdown",
   "metadata": {},
   "source": [
    "<img src=\"Baltimore_AD_002.png\" width=400 >"
   ]
  },
  {
   "cell_type": "markdown",
   "metadata": {},
   "source": [
    "In Baltimore data frame, every row is a unique form, called an observation, and column represents a transcribed field from the form, called a variable. For example, in this form `SECUIRITY GRADE` has value A and `AREA NO.` has value 2. This form can be located in the first row with index 0 in the data frame above. "
   ]
  },
  {
   "cell_type": "markdown",
   "metadata": {},
   "source": [
    "## 2. Data Cleaning"
   ]
  },
  {
   "cell_type": "markdown",
   "metadata": {},
   "source": [
    "After obtaining our data, we need to clean, manipulate, and transform it for analysis and ease of use. This is called data wrangling."
   ]
  },
  {
   "cell_type": "markdown",
   "metadata": {},
   "source": [
    "### Handling Similar Text Values "
   ]
  },
  {
   "cell_type": "markdown",
   "metadata": {},
   "source": [
    "The `INHABITANTS_Foreignborn` varaible indicates whether there are foreigners in a region. Observe that different forms used 'No' or 'None' to indicate there are no foreigners, NaN indicates the value in the form is missing, and 'Small','Very few', and 'Mixture' are various ways of indicating there were foreigners. "
   ]
  },
  {
   "cell_type": "code",
   "execution_count": 79,
   "metadata": {
    "collapsed": false,
    "scrolled": false
   },
   "outputs": [
    {
     "data": {
      "text/plain": [
       "0           No\n",
       "1         None\n",
       "2         None\n",
       "3         None\n",
       "4         None\n",
       "5          NaN\n",
       "6           No\n",
       "7           No\n",
       "8           No\n",
       "9        Small\n",
       "10    Very few\n",
       "11          No\n",
       "12          No\n",
       "13          No\n",
       "14          No\n",
       "15     Mixture\n",
       "Name: INHABITANTS_Foreignborn, dtype: object"
      ]
     },
     "execution_count": 79,
     "metadata": {},
     "output_type": "execute_result"
    }
   ],
   "source": [
    "# Selects rows with indeces between 0 to 15 included of the 'INHABITANTS_Foreignborn' column\n",
    "df.ix[0:15,'INHABITANTS_Foreignborn']"
   ]
  },
  {
   "cell_type": "markdown",
   "metadata": {},
   "source": [
    "Since columns with standardized values are easier to analyze, we are going to transform this column to indicate whether there are foreigners or not. In Python, 'None' is a special keyword that indicates the cell has a null value. Therefore, we will alter all the 'None' values to 'No' and every other value that indicates there are to 'Yes'."
   ]
  },
  {
   "cell_type": "code",
   "execution_count": 80,
   "metadata": {
    "collapsed": false,
    "scrolled": false
   },
   "outputs": [
    {
     "data": {
      "text/plain": [
       "0      No\n",
       "1      No\n",
       "2      No\n",
       "3      No\n",
       "4      No\n",
       "5     Yes\n",
       "6      No\n",
       "7      No\n",
       "8      No\n",
       "9     Yes\n",
       "10    Yes\n",
       "11     No\n",
       "12     No\n",
       "13     No\n",
       "14     No\n",
       "15    Yes\n",
       "Name: INHABITANTS_Foreignborn, dtype: object"
      ]
     },
     "execution_count": 80,
     "metadata": {},
     "output_type": "execute_result"
    }
   ],
   "source": [
    "# Replaces the values of 'None' with 'No'\n",
    "df['INHABITANTS_Foreignborn'] = df['INHABITANTS_Foreignborn'].replace('None', 'No')\n",
    "\n",
    "# Replaces all other values with 'Yes'\n",
    "for value in df['INHABITANTS_Foreignborn']:\n",
    "    if value != 'No' and value != 'NaN':\n",
    "        df['INHABITANTS_Foreignborn'] = df['INHABITANTS_Foreignborn'].replace(value, 'Yes')\n",
    "\n",
    "df.ix[0:15,'INHABITANTS_Foreignborn']"
   ]
  },
  {
   "cell_type": "markdown",
   "metadata": {},
   "source": [
    "Detrimental_Influences - \n",
    "\n",
    "Notice in this case that there are multiple variations of the meaning of 'No' to be replaced. "
   ]
  },
  {
   "cell_type": "code",
   "execution_count": 81,
   "metadata": {
    "collapsed": false,
    "scrolled": true
   },
   "outputs": [
    {
     "data": {
      "text/plain": [
       "0                                          None\n",
       "1                                          None\n",
       "2                              Distance to City\n",
       "3                                          None\n",
       "4                                          None\n",
       "5                                           NaN\n",
       "6                                           No.\n",
       "7                                          None\n",
       "8     Few streets of property in poor condition\n",
       "9                                          None\n",
       "10                                         None\n",
       "11                      Built on filled ground.\n",
       "12                                         None\n",
       "13                                         None\n",
       "14                   Distance to center of city\n",
       "15                                         None\n",
       "Name: Detrimental_Influences, dtype: object"
      ]
     },
     "execution_count": 81,
     "metadata": {},
     "output_type": "execute_result"
    }
   ],
   "source": [
    "df.ix[0:15,'Detrimental_Influences']"
   ]
  },
  {
   "cell_type": "markdown",
   "metadata": {},
   "source": [
    "To handle the multiple words to be replaced we can use an array to store a string of values."
   ]
  },
  {
   "cell_type": "code",
   "execution_count": 82,
   "metadata": {
    "collapsed": false
   },
   "outputs": [],
   "source": [
    "no_words = ['No.','no', 'none', 'None']\n",
    "\n",
    "for word in no_words:\n",
    "    df['Detrimental_Influences'] = df['Detrimental_Influences'].replace( word , 'No')"
   ]
  },
  {
   "cell_type": "markdown",
   "metadata": {
    "collapsed": true
   },
   "source": [
    "We need to do these same operations for `INHABITANTS_Negro` and `INHABITANTS_Infiltration`. Functions\n",
    "paramters, arguments"
   ]
  },
  {
   "cell_type": "code",
   "execution_count": 83,
   "metadata": {
    "collapsed": false
   },
   "outputs": [],
   "source": [
    "def replace_values(attribute, new_word, words_to_replace):\n",
    "    for word in words_to_replace:\n",
    "        df[attribute] = df[attribute].replace(word, new_word) \n",
    "\n",
    "\n",
    "replace_values('INHABITANTS_Negro', 'No', no_words)\n",
    "replace_values('INHABITANTS_Infiltration', 'No', no_words)"
   ]
  },
  {
   "cell_type": "code",
   "execution_count": 84,
   "metadata": {
    "collapsed": false
   },
   "outputs": [
    {
     "data": {
      "text/plain": [
       "0                  No\n",
       "1                  No\n",
       "2                  No\n",
       "3                  No\n",
       "4                  No\n",
       "5                 NaN\n",
       "6                  No\n",
       "7                  No\n",
       "8                  No\n",
       "9                 NaN\n",
       "10                 No\n",
       "11                 No\n",
       "12                 No\n",
       "13                 No\n",
       "14                 No\n",
       "15    People from C-1\n",
       "Name: INHABITANTS_Infiltration, dtype: object"
      ]
     },
     "execution_count": 84,
     "metadata": {},
     "output_type": "execute_result"
    }
   ],
   "source": [
    "df.ix[0:15,'INHABITANTS_Infiltration']"
   ]
  },
  {
   "cell_type": "code",
   "execution_count": 85,
   "metadata": {
    "collapsed": false
   },
   "outputs": [],
   "source": [
    "# Various words meaning small \n",
    "small_words = ['Nominal','nominal', 'Small','small','Minimum', 'minimum','minimal', 'Very few']\n",
    "\n",
    "replace_values('INHABITANTS_Negro', 'Few', small_words)\n",
    "replace_values('INHABITANTS_Infiltration', 'Few', small_words)"
   ]
  },
  {
   "cell_type": "markdown",
   "metadata": {},
   "source": [
    "We can clean up the values of `INHABITANTS_Population_Increase` by choosing standard c"
   ]
  },
  {
   "cell_type": "code",
   "execution_count": 86,
   "metadata": {
    "collapsed": false
   },
   "outputs": [
    {
     "data": {
      "text/plain": [
       "0               Fast \n",
       "1     Moderately Fast\n",
       "2     Moderately Fast\n",
       "3              Slowly\n",
       "4     Moderately Fast\n",
       "5                 NaN\n",
       "6                 NaN\n",
       "7              Slowly\n",
       "8     Moderately Fast\n",
       "9     Moderately Fast\n",
       "10                NaN\n",
       "11             Slowly\n",
       "12             Slowly\n",
       "13         Moderately\n",
       "14             Slowly\n",
       "15              Fast \n",
       "Name: INHABITANTS_Population_Increase, dtype: object"
      ]
     },
     "execution_count": 86,
     "metadata": {},
     "output_type": "execute_result"
    }
   ],
   "source": [
    " df.ix[0:15,'INHABITANTS_Population_Increase']"
   ]
  },
  {
   "cell_type": "code",
   "execution_count": 87,
   "metadata": {
    "collapsed": true
   },
   "outputs": [],
   "source": [
    "# Will define degrees of speed as very slowly, slowly, moderately, moderately fast, fast\n",
    "\n",
    "# Defines values to replace in the table \n",
    "very_slowly = ['Very Slowly', 'very slowly', 'very Slowly']\n",
    "slowly = ['slowly', 'fairly slowly']\n",
    "moderately = ['moderately']\n",
    "moderately_fast = ['Moderately Fast', 'moderately Fast', 'moderately fast']\n",
    "fast = ['very fast', 'Very Fast', 'fast']\n",
    "\n",
    "# Applies function to obtain our new values \n",
    "replace_values('INHABITANTS_Population_Increase', 'Very slowly', very_slowly)\n",
    "replace_values('INHABITANTS_Population_Increase', 'Slowly', slowly)\n",
    "replace_values('INHABITANTS_Population_Increase', 'Moderately', moderately )\n",
    "replace_values('INHABITANTS_Population_Increase', 'Moderately fast', moderately_fast)\n",
    "replace_values('INHABITANTS_Population_Increase', 'Moderately fast', moderately_fast)\n",
    "replace_values('INHABITANTS_Population_Increase', 'Fast', fast)\n"
   ]
  },
  {
   "cell_type": "code",
   "execution_count": 88,
   "metadata": {
    "collapsed": false
   },
   "outputs": [
    {
     "data": {
      "text/plain": [
       "0               Fast \n",
       "1     Moderately fast\n",
       "2     Moderately fast\n",
       "3              Slowly\n",
       "4     Moderately fast\n",
       "5                 NaN\n",
       "6                 NaN\n",
       "7              Slowly\n",
       "8     Moderately fast\n",
       "9     Moderately fast\n",
       "10                NaN\n",
       "11             Slowly\n",
       "12             Slowly\n",
       "13         Moderately\n",
       "14             Slowly\n",
       "15              Fast \n",
       "Name: INHABITANTS_Population_Increase, dtype: object"
      ]
     },
     "execution_count": 88,
     "metadata": {},
     "output_type": "execute_result"
    }
   ],
   "source": [
    " df.ix[0:15,'INHABITANTS_Population_Increase']"
   ]
  },
  {
   "cell_type": "markdown",
   "metadata": {},
   "source": [
    "### String Parsing to Extract Data"
   ]
  },
  {
   "cell_type": "markdown",
   "metadata": {},
   "source": [
    "Some of the cities have corresponding suburbs followed by a dash. We can extract the suburbs and create a new column using  `str.split()`."
   ]
  },
  {
   "cell_type": "code",
   "execution_count": 89,
   "metadata": {
    "collapsed": false
   },
   "outputs": [
    {
     "data": {
      "text/plain": [
       "16                                Baltimore \n",
       "17                       Baltimore - Dundalk\n",
       "18                                 Baltimore\n",
       "19                  Baltimore - Metropolitan\n",
       "20                                 Baltimore\n",
       "21                  Baltimore - Metropolitan\n",
       "22                                 Baltimore\n",
       "23                   Baltimore - Sub. Burton\n",
       "24    Baltimore - Sub. Mt. Washington Summit\n",
       "25                Baltimore - Sub. Villahove\n",
       "26            Baltimore - Sub. Colonial Park\n",
       "27        Baltimore - Sub. Linthicum Heights\n",
       "28                                 Baltimore\n",
       "29                                 Baltimore\n",
       "30                                 Baltimore\n",
       "Name: City, dtype: object"
      ]
     },
     "execution_count": 89,
     "metadata": {},
     "output_type": "execute_result"
    }
   ],
   "source": [
    "df.ix[16:30,'City']"
   ]
  },
  {
   "cell_type": "code",
   "execution_count": 90,
   "metadata": {
    "collapsed": false,
    "scrolled": true
   },
   "outputs": [],
   "source": [
    "# Creates a new data frame that splits the values in the orginal data frame on the '-' character \n",
    "newdf = df[\"City\"].str.split('-', n = 1, expand = True) \n",
    "newdf.head()\n",
    "\n",
    "# Creates two new columns \n",
    "df['City_clean'] = newdf[0]\n",
    "df['Suburb'] = newdf[1]\n",
    "\n",
    "# removes the old column\n",
    "df.drop([\"City\"], axis = 1, inplace = True) \n",
    "\n",
    "# renames as 'City'\n",
    "df.rename(index=str, columns={\"City_clean\": \"City\"});"
   ]
  },
  {
   "cell_type": "code",
   "execution_count": 91,
   "metadata": {
    "collapsed": false
   },
   "outputs": [
    {
     "data": {
      "text/html": [
       "<div>\n",
       "<table border=\"1\" class=\"dataframe\">\n",
       "  <thead>\n",
       "    <tr style=\"text-align: right;\">\n",
       "      <th></th>\n",
       "      <th>Suburb</th>\n",
       "    </tr>\n",
       "  </thead>\n",
       "  <tbody>\n",
       "    <tr>\n",
       "      <th>16</th>\n",
       "      <td>None</td>\n",
       "    </tr>\n",
       "    <tr>\n",
       "      <th>17</th>\n",
       "      <td>Dundalk</td>\n",
       "    </tr>\n",
       "    <tr>\n",
       "      <th>18</th>\n",
       "      <td>None</td>\n",
       "    </tr>\n",
       "    <tr>\n",
       "      <th>19</th>\n",
       "      <td>Metropolitan</td>\n",
       "    </tr>\n",
       "    <tr>\n",
       "      <th>20</th>\n",
       "      <td>None</td>\n",
       "    </tr>\n",
       "    <tr>\n",
       "      <th>21</th>\n",
       "      <td>Metropolitan</td>\n",
       "    </tr>\n",
       "    <tr>\n",
       "      <th>22</th>\n",
       "      <td>None</td>\n",
       "    </tr>\n",
       "    <tr>\n",
       "      <th>23</th>\n",
       "      <td>Sub. Burton</td>\n",
       "    </tr>\n",
       "    <tr>\n",
       "      <th>24</th>\n",
       "      <td>Sub. Mt. Washington Summit</td>\n",
       "    </tr>\n",
       "    <tr>\n",
       "      <th>25</th>\n",
       "      <td>Sub. Villahove</td>\n",
       "    </tr>\n",
       "    <tr>\n",
       "      <th>26</th>\n",
       "      <td>Sub. Colonial Park</td>\n",
       "    </tr>\n",
       "    <tr>\n",
       "      <th>27</th>\n",
       "      <td>Sub. Linthicum Heights</td>\n",
       "    </tr>\n",
       "    <tr>\n",
       "      <th>28</th>\n",
       "      <td>None</td>\n",
       "    </tr>\n",
       "    <tr>\n",
       "      <th>29</th>\n",
       "      <td>None</td>\n",
       "    </tr>\n",
       "    <tr>\n",
       "      <th>30</th>\n",
       "      <td>None</td>\n",
       "    </tr>\n",
       "  </tbody>\n",
       "</table>\n",
       "</div>"
      ],
      "text/plain": [
       "                         Suburb\n",
       "16                         None\n",
       "17                      Dundalk\n",
       "18                         None\n",
       "19                 Metropolitan\n",
       "20                         None\n",
       "21                 Metropolitan\n",
       "22                         None\n",
       "23                  Sub. Burton\n",
       "24   Sub. Mt. Washington Summit\n",
       "25               Sub. Villahove\n",
       "26           Sub. Colonial Park\n",
       "27       Sub. Linthicum Heights\n",
       "28                         None\n",
       "29                         None\n",
       "30                         None"
      ]
     },
     "execution_count": 91,
     "metadata": {},
     "output_type": "execute_result"
    }
   ],
   "source": [
    "df.ix[16:30,['Suburb']]"
   ]
  },
  {
   "cell_type": "markdown",
   "metadata": {
    "collapsed": true
   },
   "source": [
    "The `BUILDINGS_Age` attribute represents the range of the age of the buildings in a region. Notice the range is given is given as a string of text. For purpose of analysis, we would like to extract the upper end of the range and create a column of numeric values."
   ]
  },
  {
   "cell_type": "code",
   "execution_count": 101,
   "metadata": {
    "collapsed": false,
    "scrolled": false
   },
   "outputs": [
    {
     "data": {
      "text/plain": [
       "0      1 to 10 years\n",
       "1           12 years\n",
       "2      1 to 20 years\n",
       "3           10 years\n",
       "4      1 to 20 years\n",
       "5                NaN\n",
       "6           25 years\n",
       "7     15 to 25 years\n",
       "8           15 years\n",
       "9      5 to 25 years\n",
       "10          20 years\n",
       "11     5 to 10 years\n",
       "12          10 years\n",
       "13          25 years\n",
       "14     1 to 20 years\n",
       "15     6 to 25 years\n",
       "Name: BUILDINGS_Age, dtype: object"
      ]
     },
     "execution_count": 101,
     "metadata": {},
     "output_type": "execute_result"
    }
   ],
   "source": [
    "df.ix[0:15,'BUILDINGS_Age']"
   ]
  },
  {
   "cell_type": "markdown",
   "metadata": {},
   "source": [
    "Observe that the number to extract is always the last number .."
   ]
  },
  {
   "cell_type": "code",
   "execution_count": 93,
   "metadata": {
    "collapsed": false
   },
   "outputs": [],
   "source": [
    "df['max_building_age'] = df['BUILDINGS_Age'].str.extract('(\\d+)(?!.*\\d)', expand=True)"
   ]
  },
  {
   "cell_type": "code",
   "execution_count": 94,
   "metadata": {
    "collapsed": false
   },
   "outputs": [
    {
     "data": {
      "text/html": [
       "<div>\n",
       "<table border=\"1\" class=\"dataframe\">\n",
       "  <thead>\n",
       "    <tr style=\"text-align: right;\">\n",
       "      <th></th>\n",
       "      <th>BUILDINGS_Age</th>\n",
       "      <th>max_building_age</th>\n",
       "    </tr>\n",
       "  </thead>\n",
       "  <tbody>\n",
       "    <tr>\n",
       "      <th>0</th>\n",
       "      <td>1 to 10 years</td>\n",
       "      <td>10</td>\n",
       "    </tr>\n",
       "    <tr>\n",
       "      <th>1</th>\n",
       "      <td>12 years</td>\n",
       "      <td>12</td>\n",
       "    </tr>\n",
       "    <tr>\n",
       "      <th>2</th>\n",
       "      <td>1 to 20 years</td>\n",
       "      <td>20</td>\n",
       "    </tr>\n",
       "    <tr>\n",
       "      <th>3</th>\n",
       "      <td>10 years</td>\n",
       "      <td>10</td>\n",
       "    </tr>\n",
       "    <tr>\n",
       "      <th>4</th>\n",
       "      <td>1 to 20 years</td>\n",
       "      <td>20</td>\n",
       "    </tr>\n",
       "    <tr>\n",
       "      <th>5</th>\n",
       "      <td>NaN</td>\n",
       "      <td>NaN</td>\n",
       "    </tr>\n",
       "    <tr>\n",
       "      <th>6</th>\n",
       "      <td>25 years</td>\n",
       "      <td>25</td>\n",
       "    </tr>\n",
       "    <tr>\n",
       "      <th>7</th>\n",
       "      <td>15 to 25 years</td>\n",
       "      <td>25</td>\n",
       "    </tr>\n",
       "    <tr>\n",
       "      <th>8</th>\n",
       "      <td>15 years</td>\n",
       "      <td>15</td>\n",
       "    </tr>\n",
       "    <tr>\n",
       "      <th>9</th>\n",
       "      <td>5 to 25 years</td>\n",
       "      <td>25</td>\n",
       "    </tr>\n",
       "    <tr>\n",
       "      <th>10</th>\n",
       "      <td>20 years</td>\n",
       "      <td>20</td>\n",
       "    </tr>\n",
       "    <tr>\n",
       "      <th>11</th>\n",
       "      <td>5 to 10 years</td>\n",
       "      <td>10</td>\n",
       "    </tr>\n",
       "    <tr>\n",
       "      <th>12</th>\n",
       "      <td>10 years</td>\n",
       "      <td>10</td>\n",
       "    </tr>\n",
       "    <tr>\n",
       "      <th>13</th>\n",
       "      <td>25 years</td>\n",
       "      <td>25</td>\n",
       "    </tr>\n",
       "    <tr>\n",
       "      <th>14</th>\n",
       "      <td>1 to 20 years</td>\n",
       "      <td>20</td>\n",
       "    </tr>\n",
       "    <tr>\n",
       "      <th>15</th>\n",
       "      <td>6 to 25 years</td>\n",
       "      <td>25</td>\n",
       "    </tr>\n",
       "  </tbody>\n",
       "</table>\n",
       "</div>"
      ],
      "text/plain": [
       "     BUILDINGS_Age max_building_age\n",
       "0    1 to 10 years               10\n",
       "1         12 years               12\n",
       "2    1 to 20 years               20\n",
       "3         10 years               10\n",
       "4    1 to 20 years               20\n",
       "5              NaN              NaN\n",
       "6         25 years               25\n",
       "7   15 to 25 years               25\n",
       "8         15 years               15\n",
       "9    5 to 25 years               25\n",
       "10        20 years               20\n",
       "11   5 to 10 years               10\n",
       "12        10 years               10\n",
       "13        25 years               25\n",
       "14   1 to 20 years               20\n",
       "15   6 to 25 years               25"
      ]
     },
     "execution_count": 94,
     "metadata": {},
     "output_type": "execute_result"
    }
   ],
   "source": [
    "df.ix[0:15,['BUILDINGS_Age','max_building_age']]"
   ]
  },
  {
   "cell_type": "markdown",
   "metadata": {},
   "source": [
    "### Handling Dates "
   ]
  },
  {
   "cell_type": "markdown",
   "metadata": {
    "collapsed": true
   },
   "source": [
    " The `Date` column has three attributes given by **month day, year**."
   ]
  },
  {
   "cell_type": "code",
   "execution_count": 95,
   "metadata": {
    "collapsed": false
   },
   "outputs": [
    {
     "data": {
      "text/html": [
       "<div>\n",
       "<table border=\"1\" class=\"dataframe\">\n",
       "  <thead>\n",
       "    <tr style=\"text-align: right;\">\n",
       "      <th></th>\n",
       "      <th>Date</th>\n",
       "    </tr>\n",
       "  </thead>\n",
       "  <tbody>\n",
       "    <tr>\n",
       "      <th>0</th>\n",
       "      <td>May 4,1937</td>\n",
       "    </tr>\n",
       "    <tr>\n",
       "      <th>1</th>\n",
       "      <td>May 4,1937</td>\n",
       "    </tr>\n",
       "    <tr>\n",
       "      <th>2</th>\n",
       "      <td>May 4,1937</td>\n",
       "    </tr>\n",
       "    <tr>\n",
       "      <th>3</th>\n",
       "      <td>May 4,1937</td>\n",
       "    </tr>\n",
       "    <tr>\n",
       "      <th>4</th>\n",
       "      <td>NaN</td>\n",
       "    </tr>\n",
       "    <tr>\n",
       "      <th>5</th>\n",
       "      <td>NaN</td>\n",
       "    </tr>\n",
       "    <tr>\n",
       "      <th>6</th>\n",
       "      <td>NaN</td>\n",
       "    </tr>\n",
       "    <tr>\n",
       "      <th>7</th>\n",
       "      <td>May 4,1937</td>\n",
       "    </tr>\n",
       "  </tbody>\n",
       "</table>\n",
       "</div>"
      ],
      "text/plain": [
       "         Date\n",
       "0  May 4,1937\n",
       "1  May 4,1937\n",
       "2  May 4,1937\n",
       "3  May 4,1937\n",
       "4         NaN\n",
       "5         NaN\n",
       "6         NaN\n",
       "7  May 4,1937"
      ]
     },
     "execution_count": 95,
     "metadata": {},
     "output_type": "execute_result"
    }
   ],
   "source": [
    "df.ix[0:7,['Date']]"
   ]
  },
  {
   "cell_type": "markdown",
   "metadata": {},
   "source": [
    "We can seperate this column into three columns:  `Month`, `Day`, and `Year` using `str.extract()` and regular expressions."
   ]
  },
  {
   "cell_type": "code",
   "execution_count": 103,
   "metadata": {
    "collapsed": false
   },
   "outputs": [
    {
     "data": {
      "text/html": [
       "<div>\n",
       "<table border=\"1\" class=\"dataframe\">\n",
       "  <thead>\n",
       "    <tr style=\"text-align: right;\">\n",
       "      <th></th>\n",
       "      <th>Date</th>\n",
       "      <th>Month</th>\n",
       "      <th>Day</th>\n",
       "      <th>Year</th>\n",
       "    </tr>\n",
       "  </thead>\n",
       "  <tbody>\n",
       "    <tr>\n",
       "      <th>0</th>\n",
       "      <td>May 4,1937</td>\n",
       "      <td>May</td>\n",
       "      <td>4</td>\n",
       "      <td>1937</td>\n",
       "    </tr>\n",
       "    <tr>\n",
       "      <th>1</th>\n",
       "      <td>May 4,1937</td>\n",
       "      <td>May</td>\n",
       "      <td>4</td>\n",
       "      <td>1937</td>\n",
       "    </tr>\n",
       "    <tr>\n",
       "      <th>2</th>\n",
       "      <td>May 4,1937</td>\n",
       "      <td>May</td>\n",
       "      <td>4</td>\n",
       "      <td>1937</td>\n",
       "    </tr>\n",
       "    <tr>\n",
       "      <th>3</th>\n",
       "      <td>May 4,1937</td>\n",
       "      <td>May</td>\n",
       "      <td>4</td>\n",
       "      <td>1937</td>\n",
       "    </tr>\n",
       "    <tr>\n",
       "      <th>4</th>\n",
       "      <td>NaN</td>\n",
       "      <td>NaN</td>\n",
       "      <td>NaN</td>\n",
       "      <td>NaN</td>\n",
       "    </tr>\n",
       "    <tr>\n",
       "      <th>5</th>\n",
       "      <td>NaN</td>\n",
       "      <td>NaN</td>\n",
       "      <td>NaN</td>\n",
       "      <td>NaN</td>\n",
       "    </tr>\n",
       "    <tr>\n",
       "      <th>6</th>\n",
       "      <td>NaN</td>\n",
       "      <td>NaN</td>\n",
       "      <td>NaN</td>\n",
       "      <td>NaN</td>\n",
       "    </tr>\n",
       "    <tr>\n",
       "      <th>7</th>\n",
       "      <td>May 4,1937</td>\n",
       "      <td>May</td>\n",
       "      <td>4</td>\n",
       "      <td>1937</td>\n",
       "    </tr>\n",
       "  </tbody>\n",
       "</table>\n",
       "</div>"
      ],
      "text/plain": [
       "         Date Month  Day  Year\n",
       "0  May 4,1937   May    4  1937\n",
       "1  May 4,1937   May    4  1937\n",
       "2  May 4,1937   May    4  1937\n",
       "3  May 4,1937   May    4  1937\n",
       "4         NaN   NaN  NaN   NaN\n",
       "5         NaN   NaN  NaN   NaN\n",
       "6         NaN   NaN  NaN   NaN\n",
       "7  May 4,1937   May    4  1937"
      ]
     },
     "execution_count": 103,
     "metadata": {},
     "output_type": "execute_result"
    }
   ],
   "source": [
    "# extracts the year using regular expression (\\d\\d\\d\\d) to indicate 4 digit date\n",
    "df['Year'] = df['Date'].str.extract('(\\d\\d\\d\\d)', expand=True)\n",
    "\n",
    "# extracts day using regular expression \\d to indicate single digit\n",
    "df['Day'] = df['Date'].str.extract('(\\d)', expand=True)\n",
    "\n",
    "# extracts month using regular expression [A-Z]\\w{0,} to indicate string of characters\n",
    "df['Month'] = df['Date'].str.extract('([A-Z]\\w{0,})', expand=True)\n",
    "\n",
    "df.ix[0:7,['Date','Month','Day','Year']]"
   ]
  },
  {
   "cell_type": "markdown",
   "metadata": {},
   "source": [
    "## 3. Data Manipulation "
   ]
  },
  {
   "cell_type": "markdown",
   "metadata": {},
   "source": [
    "### Encoding Categorical Data"
   ]
  },
  {
   "cell_type": "code",
   "execution_count": 97,
   "metadata": {
    "collapsed": false
   },
   "outputs": [
    {
     "data": {
      "text/plain": [
       "0               Fast \n",
       "1     Moderately fast\n",
       "2     Moderately fast\n",
       "3              Slowly\n",
       "4     Moderately fast\n",
       "5                 NaN\n",
       "6                 NaN\n",
       "7              Slowly\n",
       "8     Moderately fast\n",
       "9     Moderately fast\n",
       "10                NaN\n",
       "11             Slowly\n",
       "12             Slowly\n",
       "13         Moderately\n",
       "14             Slowly\n",
       "15              Fast \n",
       "Name: INHABITANTS_Population_Increase, dtype: object"
      ]
     },
     "execution_count": 97,
     "metadata": {},
     "output_type": "execute_result"
    }
   ],
   "source": [
    " df.ix[0:15,'INHABITANTS_Population_Increase']"
   ]
  },
  {
   "cell_type": "markdown",
   "metadata": {},
   "source": [
    "### Sorting and Grouping "
   ]
  },
  {
   "cell_type": "code",
   "execution_count": 98,
   "metadata": {
    "collapsed": false,
    "scrolled": true
   },
   "outputs": [
    {
     "data": {
      "text/html": [
       "<div>\n",
       "<table border=\"1\" class=\"dataframe\">\n",
       "  <thead>\n",
       "    <tr style=\"text-align: right;\">\n",
       "      <th></th>\n",
       "      <th>Security_Grade</th>\n",
       "      <th>Area_Number</th>\n",
       "    </tr>\n",
       "  </thead>\n",
       "  <tbody>\n",
       "    <tr>\n",
       "      <th>0</th>\n",
       "      <td>A</td>\n",
       "      <td>2</td>\n",
       "    </tr>\n",
       "    <tr>\n",
       "      <th>1</th>\n",
       "      <td>A</td>\n",
       "      <td>1</td>\n",
       "    </tr>\n",
       "    <tr>\n",
       "      <th>2</th>\n",
       "      <td>A</td>\n",
       "      <td>3</td>\n",
       "    </tr>\n",
       "    <tr>\n",
       "      <th>3</th>\n",
       "      <td>A</td>\n",
       "      <td>4</td>\n",
       "    </tr>\n",
       "    <tr>\n",
       "      <th>4</th>\n",
       "      <td>A</td>\n",
       "      <td>5</td>\n",
       "    </tr>\n",
       "    <tr>\n",
       "      <th>5</th>\n",
       "      <td>A</td>\n",
       "      <td>6</td>\n",
       "    </tr>\n",
       "    <tr>\n",
       "      <th>6</th>\n",
       "      <td>B</td>\n",
       "      <td>1</td>\n",
       "    </tr>\n",
       "    <tr>\n",
       "      <th>7</th>\n",
       "      <td>B</td>\n",
       "      <td>2</td>\n",
       "    </tr>\n",
       "    <tr>\n",
       "      <th>8</th>\n",
       "      <td>B</td>\n",
       "      <td>3</td>\n",
       "    </tr>\n",
       "    <tr>\n",
       "      <th>9</th>\n",
       "      <td>B</td>\n",
       "      <td>4</td>\n",
       "    </tr>\n",
       "    <tr>\n",
       "      <th>10</th>\n",
       "      <td>B</td>\n",
       "      <td>5</td>\n",
       "    </tr>\n",
       "  </tbody>\n",
       "</table>\n",
       "</div>"
      ],
      "text/plain": [
       "   Security_Grade  Area_Number\n",
       "0               A            2\n",
       "1               A            1\n",
       "2              A             3\n",
       "3               A            4\n",
       "4              A             5\n",
       "5               A            6\n",
       "6               B            1\n",
       "7               B            2\n",
       "8               B            3\n",
       "9               B            4\n",
       "10              B            5"
      ]
     },
     "execution_count": 98,
     "metadata": {},
     "output_type": "execute_result"
    }
   ],
   "source": [
    "df.ix[0:10,['Security_Grade','Area_Number']]"
   ]
  },
  {
   "cell_type": "code",
   "execution_count": 99,
   "metadata": {
    "collapsed": false,
    "scrolled": false
   },
   "outputs": [
    {
     "data": {
      "text/html": [
       "<div>\n",
       "<table border=\"1\" class=\"dataframe\">\n",
       "  <thead>\n",
       "    <tr style=\"text-align: right;\">\n",
       "      <th></th>\n",
       "      <th>Security_Grade</th>\n",
       "      <th>Area_Number</th>\n",
       "    </tr>\n",
       "  </thead>\n",
       "  <tbody>\n",
       "    <tr>\n",
       "      <th>0</th>\n",
       "      <td>A</td>\n",
       "      <td>2</td>\n",
       "    </tr>\n",
       "    <tr>\n",
       "      <th>3</th>\n",
       "      <td>A</td>\n",
       "      <td>4</td>\n",
       "    </tr>\n",
       "    <tr>\n",
       "      <th>5</th>\n",
       "      <td>A</td>\n",
       "      <td>6</td>\n",
       "    </tr>\n",
       "    <tr>\n",
       "      <th>2</th>\n",
       "      <td>A</td>\n",
       "      <td>3</td>\n",
       "    </tr>\n",
       "    <tr>\n",
       "      <th>4</th>\n",
       "      <td>A</td>\n",
       "      <td>5</td>\n",
       "    </tr>\n",
       "    <tr>\n",
       "      <th>6</th>\n",
       "      <td>B</td>\n",
       "      <td>1</td>\n",
       "    </tr>\n",
       "    <tr>\n",
       "      <th>7</th>\n",
       "      <td>B</td>\n",
       "      <td>2</td>\n",
       "    </tr>\n",
       "    <tr>\n",
       "      <th>8</th>\n",
       "      <td>B</td>\n",
       "      <td>3</td>\n",
       "    </tr>\n",
       "    <tr>\n",
       "      <th>9</th>\n",
       "      <td>B</td>\n",
       "      <td>4</td>\n",
       "    </tr>\n",
       "    <tr>\n",
       "      <th>10</th>\n",
       "      <td>B</td>\n",
       "      <td>5</td>\n",
       "    </tr>\n",
       "  </tbody>\n",
       "</table>\n",
       "</div>"
      ],
      "text/plain": [
       "   Security_Grade  Area_Number\n",
       "0               A            2\n",
       "3               A            4\n",
       "5               A            6\n",
       "2              A             3\n",
       "4              A             5\n",
       "6               B            1\n",
       "7               B            2\n",
       "8               B            3\n",
       "9               B            4\n",
       "10              B            5"
      ]
     },
     "execution_count": 99,
     "metadata": {},
     "output_type": "execute_result"
    }
   ],
   "source": [
    "sort_by_area_number = df.sort_values(['Security_Grade', 'Area_Number'])\n",
    "sort_by_area_number.ix[0:10,['Security_Grade','Area_Number']]\n",
    "#bug A1 gone and A3 in wrong position "
   ]
  },
  {
   "cell_type": "markdown",
   "metadata": {},
   "source": [
    "## 4. Data Analysis "
   ]
  },
  {
   "cell_type": "code",
   "execution_count": 100,
   "metadata": {
    "collapsed": false
   },
   "outputs": [
    {
     "data": {
      "text/plain": [
       "count     46\n",
       "unique    12\n",
       "top       25\n",
       "freq       9\n",
       "Name: max_building_age, dtype: object"
      ]
     },
     "execution_count": 100,
     "metadata": {},
     "output_type": "execute_result"
    }
   ],
   "source": [
    "df['max_building_age'].describe()"
   ]
  },
  {
   "cell_type": "code",
   "execution_count": null,
   "metadata": {
    "collapsed": false
   },
   "outputs": [],
   "source": [
    "# converts max_building age to numeric type\n",
    "df[\"max_building_age\"] = pd.to_numeric(df[\"max_building_age\"])\n",
    "df['max_building_age'].describe()"
   ]
  },
  {
   "cell_type": "markdown",
   "metadata": {},
   "source": [
    "### Text Analysis "
   ]
  },
  {
   "cell_type": "code",
   "execution_count": 25,
   "metadata": {
    "collapsed": true
   },
   "outputs": [],
   "source": [
    "from nltk.tokenize import word_tokenize\n",
    "from nltk.text import Text\n",
    "import re "
   ]
  },
  {
   "cell_type": "code",
   "execution_count": 19,
   "metadata": {
    "collapsed": false,
    "scrolled": true
   },
   "outputs": [
    {
     "data": {
      "text/plain": [
       "0     A recent development with much room for expans...\n",
       "1     Mostly fee properties. A few homes valued at $...\n",
       "2     Principally fee property. This section lies in...\n",
       "3                                      All fee property\n",
       "4     Merridale only recently developed. Prices do n...\n",
       "5     Owned and controlled by the Roland Park Compan...\n",
       "6     This section was completely built up in 1921. ...\n",
       "7                            Principally fee property. \n",
       "8     Section is very spotty with poor houses lying ...\n",
       "9     Ground rent range $90 to $120. Part of the sec...\n",
       "10           Ground rents $90 to $120. Principally $90.\n",
       "11    Three story houses on Reisterstown Road are 25...\n",
       "12    Ground rents $60 to $90. Predominating $84. Fa...\n",
       "13    Ground rents $72 to $120. Ground rents in Ceda...\n",
       "14    This section lies in Baltimore County just out...\n",
       "15    Considered the best lending section in the cit...\n",
       "16    Ground rents range from $72 to $95. Predominat...\n",
       "17    Very few Ground Rents in Dundalk. This section...\n",
       "18      Principally fee property. Few ground rents $120\n",
       "19    Outside Baltimore City limits. A few larger ho...\n",
       "20    Many high-grade apartments are located along C...\n",
       "21                             Principally fee property\n",
       "22    Ground Rents range from $72 to $96. Predominat...\n",
       "23    Average held at $2000 to $2500 per acre. A spa...\n",
       "24    A sparsely settled section of modest homes. Pr...\n",
       "25    This section has not taken the public's fancy ...\n",
       "26    Still very sparsely settled, but may be expect...\n",
       "27                                                  NaN\n",
       "28    Ground rents range from $50 to $50. Average $5...\n",
       "29    Ground rent range $60 to $90. This section has...\n",
       "30                Ground rents $72 to $120. Average $90\n",
       "31    Ground rent range $72 to $90.  Predominating. ...\n",
       "32    Ground rents range $43 to $72. Average $60. Ve...\n",
       "33           Ground rents $30 to $75. Predominating $60\n",
       "34    Ground rent range $42 to $90. Predominating $6...\n",
       "35      Ground rent range $72 to $95. Predominating $90\n",
       "36    This entire area is populated principally by p...\n",
       "37    Demand is expected to increase because of expa...\n",
       "38    Ground rents range from $48 to $75 and average...\n",
       "39    Ground rents range from $75 to $150 and averag...\n",
       "40    Houses are being converted into apartment unit...\n",
       "41    Ground rent $50 to $75 average $60. No immedia...\n",
       "42                        Very sparsely settled section\n",
       "43    The section never seemed to go over very well ...\n",
       "44    A rather presentable section of modest homes. ...\n",
       "45    Some utilities are lacking . Principally fee p...\n",
       "46    A sparsely settled section of fair character. ...\n",
       "47                             Principally fee property\n",
       "48                             Principally fee property\n",
       "49                                                  NaN\n",
       "50    Ground rents in this section range from $36 to...\n",
       "51    Area become worse south of Eastern Avenue. Gro...\n",
       "52    Ground rents range from $42 to $120. Predomina...\n",
       "53    Ground rents in this section range from $30 to...\n",
       "54    Ground rents range $30 to $60. Predominating $...\n",
       "55    Valuations down do not include homes on Monume...\n",
       "56    Most of this section comprises the commercial ...\n",
       "Name: Remarks, dtype: object"
      ]
     },
     "execution_count": 19,
     "metadata": {},
     "output_type": "execute_result"
    }
   ],
   "source": [
    "df['Remarks']"
   ]
  },
  {
   "cell_type": "code",
   "execution_count": 21,
   "metadata": {
    "collapsed": true
   },
   "outputs": [],
   "source": [
    "# Convert from type object to type string \n",
    "df['Remarks'] = df['Remarks'].astype(str)\n",
    "# Case normalization\n",
    "df['Remarks'] = df['Remarks'].str.lower()"
   ]
  },
  {
   "cell_type": "code",
   "execution_count": 24,
   "metadata": {
    "collapsed": false,
    "scrolled": true
   },
   "outputs": [
    {
     "data": {
      "text/plain": [
       "0     a recent development with much room for expans...\n",
       "1     mostly fee properties. a few homes valued at $...\n",
       "2     principally fee property. this section lies in...\n",
       "3                                      all fee property\n",
       "4     merridale only recently developed. prices do n...\n",
       "5     owned and controlled by the roland park compan...\n",
       "6     this section was completely built up in 1921. ...\n",
       "7                            principally fee property. \n",
       "8     section is very spotty with poor houses lying ...\n",
       "9     ground rent range $90 to $120. part of the sec...\n",
       "10           ground rents $90 to $120. principally $90.\n",
       "11    three story houses on reisterstown road are 25...\n",
       "12    ground rents $60 to $90. predominating $84. fa...\n",
       "13    ground rents $72 to $120. ground rents in ceda...\n",
       "14    this section lies in baltimore county just out...\n",
       "15    considered the best lending section in the cit...\n",
       "16    ground rents range from $72 to $95. predominat...\n",
       "17    very few ground rents in dundalk. this section...\n",
       "18      principally fee property. few ground rents $120\n",
       "19    outside baltimore city limits. a few larger ho...\n",
       "20    many high-grade apartments are located along c...\n",
       "21                             principally fee property\n",
       "22    ground rents range from $72 to $96. predominat...\n",
       "23    average held at $2000 to $2500 per acre. a spa...\n",
       "24    a sparsely settled section of modest homes. pr...\n",
       "25    this section has not taken the public's fancy ...\n",
       "26    still very sparsely settled, but may be expect...\n",
       "27                                                  nan\n",
       "28    ground rents range from $50 to $50. average $5...\n",
       "29    ground rent range $60 to $90. this section has...\n",
       "30                ground rents $72 to $120. average $90\n",
       "31    ground rent range $72 to $90.  predominating. ...\n",
       "32    ground rents range $43 to $72. average $60. ve...\n",
       "33           ground rents $30 to $75. predominating $60\n",
       "34    ground rent range $42 to $90. predominating $6...\n",
       "35      ground rent range $72 to $95. predominating $90\n",
       "36    this entire area is populated principally by p...\n",
       "37    demand is expected to increase because of expa...\n",
       "38    ground rents range from $48 to $75 and average...\n",
       "39    ground rents range from $75 to $150 and averag...\n",
       "40    houses are being converted into apartment unit...\n",
       "41    ground rent $50 to $75 average $60. no immedia...\n",
       "42                        very sparsely settled section\n",
       "43    the section never seemed to go over very well ...\n",
       "44    a rather presentable section of modest homes. ...\n",
       "45    some utilities are lacking . principally fee p...\n",
       "46    a sparsely settled section of fair character. ...\n",
       "47                             principally fee property\n",
       "48                             principally fee property\n",
       "49                                                  nan\n",
       "50    ground rents in this section range from $36 to...\n",
       "51    area become worse south of eastern avenue. gro...\n",
       "52    ground rents range from $42 to $120. predomina...\n",
       "53    ground rents in this section range from $30 to...\n",
       "54    ground rents range $30 to $60. predominating $...\n",
       "55    valuations down do not include homes on monume...\n",
       "56    most of this section comprises the commercial ...\n",
       "Name: Remarks, dtype: object"
      ]
     },
     "execution_count": 24,
     "metadata": {},
     "output_type": "execute_result"
    }
   ],
   "source": [
    "df['Remarks']"
   ]
  },
  {
   "cell_type": "code",
   "execution_count": null,
   "metadata": {
    "collapsed": true
   },
   "outputs": [],
   "source": [
    "# remove punctuation \n"
   ]
  },
  {
   "cell_type": "code",
   "execution_count": null,
   "metadata": {
    "collapsed": true
   },
   "outputs": [],
   "source": [
    "# tokenization - where every work is a token "
   ]
  },
  {
   "cell_type": "markdown",
   "metadata": {},
   "source": [
    "## 5. Data Visualization "
   ]
  },
  {
   "cell_type": "markdown",
   "metadata": {},
   "source": []
  },
  {
   "cell_type": "code",
   "execution_count": null,
   "metadata": {
    "collapsed": true
   },
   "outputs": [],
   "source": [
    "import matplotlib.pyplot as plt"
   ]
  },
  {
   "cell_type": "markdown",
   "metadata": {},
   "source": [
    "<img src=\"redl.png\">"
   ]
  }
 ],
 "metadata": {
  "kernelspec": {
   "display_name": "Python 3",
   "language": "python",
   "name": "python3"
  },
  "language_info": {
   "codemirror_mode": {
    "name": "ipython",
    "version": 3
   },
   "file_extension": ".py",
   "mimetype": "text/x-python",
   "name": "python",
   "nbconvert_exporter": "python",
   "pygments_lexer": "ipython3",
   "version": "3.6.0"
  }
 },
 "nbformat": 4,
 "nbformat_minor": 2
}
