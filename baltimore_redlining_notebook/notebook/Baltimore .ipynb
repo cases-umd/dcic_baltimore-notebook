{
 "cells": [
  {
   "cell_type": "markdown",
   "metadata": {},
   "source": [
    "<img src=\"dcic.png\">"
   ]
  },
  {
   "cell_type": "markdown",
   "metadata": {},
   "source": [
    "# Mapping Inequality in Baltimore"
   ]
  },
  {
   "cell_type": "markdown",
   "metadata": {},
   "source": [
    "## Introduction \n",
    "\n",
    "After the 1929 Stock Market Crash, thousands of Americans were in danger of home foreclosure. To address this problem and stabilize the market, The Home Owners Loan Coperation was created under the Rooselvelt Administration to asses credibility of families in order to decide to refinance their homes.\n",
    "\n",
    "- Redlining is the process \n",
    "\n",
    "- In particular Baltimore,\n",
    "\n",
    "<img src=\"baltimoremap-min.png\" width=400>\n",
    "\n",
    "\n",
    "Learn more the Mapping Inequality Project [here](https://dsl.richmond.edu/panorama/redlining/#loc=4/36.71/-96.93&opacity=0.8)"
   ]
  },
  {
   "cell_type": "markdown",
   "metadata": {},
   "source": [
    "- This data set\n",
    "- Learning Objectives "
   ]
  },
  {
   "cell_type": "markdown",
   "metadata": {},
   "source": [
    "## 1. Aquiring Data"
   ]
  },
  {
   "cell_type": "markdown",
   "metadata": {},
   "source": [
    "Every form contains the characteristics of a particular section indicated by the security grade map. The fields of each form was transcribed and stored in a json format and converted into a csv."
   ]
  },
  {
   "cell_type": "markdown",
   "metadata": {},
   "source": [
    "A data frame is a table where every row represents a single unique object and every column represents characteristics of these objects. We can use the pandas library to read our comma seperated file (csv) and create a data frame to prepare the data for analysis."
   ]
  },
  {
   "cell_type": "markdown",
   "metadata": {},
   "source": [
    "### Importing the Data and Creating a Data Frame"
   ]
  },
  {
   "cell_type": "code",
   "execution_count": 18,
   "metadata": {
    "collapsed": false,
    "scrolled": true
   },
   "outputs": [
    {
     "data": {
      "text/html": [
       "<div>\n",
       "<table border=\"1\" class=\"dataframe\">\n",
       "  <thead>\n",
       "    <tr style=\"text-align: right;\">\n",
       "      <th></th>\n",
       "      <th>Form</th>\n",
       "      <th>State</th>\n",
       "      <th>City</th>\n",
       "      <th>Security_Grade</th>\n",
       "      <th>Area_Number</th>\n",
       "      <th>Terrain_Description</th>\n",
       "      <th>Favorable_Influences</th>\n",
       "      <th>Detrimental_Influences</th>\n",
       "      <th>INHABITANTS_Type</th>\n",
       "      <th>INHABITANTS_Annual_Income</th>\n",
       "      <th>...</th>\n",
       "      <th>INHABITANTS_Population_Increase</th>\n",
       "      <th>INHABITANTS_Population_Decrease</th>\n",
       "      <th>INHABITANTS_Population_Static</th>\n",
       "      <th>BUILDINGS_Types</th>\n",
       "      <th>BUILDINGS_Construction</th>\n",
       "      <th>BUILDINGS_Age</th>\n",
       "      <th>BUILDINGS_Repair</th>\n",
       "      <th>Ten_Fifteen_Desirability</th>\n",
       "      <th>Remarks</th>\n",
       "      <th>Date</th>\n",
       "    </tr>\n",
       "  </thead>\n",
       "  <tbody>\n",
       "    <tr>\n",
       "      <th>0</th>\n",
       "      <td>NS FORM-8 6-1-37</td>\n",
       "      <td>Maryland</td>\n",
       "      <td>Baltimore</td>\n",
       "      <td>A</td>\n",
       "      <td>2</td>\n",
       "      <td>Rolling</td>\n",
       "      <td>Fairly new suburban area of homogeneous charac...</td>\n",
       "      <td>None</td>\n",
       "      <td>Substantial Middle Class</td>\n",
       "      <td>$3000 - 5,000</td>\n",
       "      <td>...</td>\n",
       "      <td>Fast</td>\n",
       "      <td>NaN</td>\n",
       "      <td>NaN</td>\n",
       "      <td>Detached an row houses</td>\n",
       "      <td>Brick and frame</td>\n",
       "      <td>1 to 10 years</td>\n",
       "      <td>Good</td>\n",
       "      <td>Upward</td>\n",
       "      <td>A recent development with much room for expans...</td>\n",
       "      <td>May 4,1937</td>\n",
       "    </tr>\n",
       "    <tr>\n",
       "      <th>1</th>\n",
       "      <td>NS FORM-8 6-1-37</td>\n",
       "      <td>Maryland</td>\n",
       "      <td>Baltimore</td>\n",
       "      <td>A</td>\n",
       "      <td>1</td>\n",
       "      <td>Undulating</td>\n",
       "      <td>Very nicely planned residential area of medium...</td>\n",
       "      <td>None</td>\n",
       "      <td>Executives, Professional Men</td>\n",
       "      <td>over $5000</td>\n",
       "      <td>...</td>\n",
       "      <td>Moderately Fast</td>\n",
       "      <td>NaN</td>\n",
       "      <td>NaN</td>\n",
       "      <td>Single family detached</td>\n",
       "      <td>Brick and Stone</td>\n",
       "      <td>12 years</td>\n",
       "      <td>Very good</td>\n",
       "      <td>Upward</td>\n",
       "      <td>Mostly fee properties. A few homes valued at $...</td>\n",
       "      <td>May 4,1937</td>\n",
       "    </tr>\n",
       "    <tr>\n",
       "      <th>2</th>\n",
       "      <td>NS FORM-8 6-1-37</td>\n",
       "      <td>Maryland</td>\n",
       "      <td>Baltimore</td>\n",
       "      <td>A</td>\n",
       "      <td>3</td>\n",
       "      <td>Rolling</td>\n",
       "      <td>Good residential area. Well planned.</td>\n",
       "      <td>Distance to City</td>\n",
       "      <td>Executives, Professional Men</td>\n",
       "      <td>3500 - 7000</td>\n",
       "      <td>...</td>\n",
       "      <td>Moderately Fast</td>\n",
       "      <td>NaN</td>\n",
       "      <td>NaN</td>\n",
       "      <td>One family detached</td>\n",
       "      <td>Brick, Stone, and Frame</td>\n",
       "      <td>1 to 20 years</td>\n",
       "      <td>Good to excellent</td>\n",
       "      <td>Upward</td>\n",
       "      <td>Principally fee property. This section lies in...</td>\n",
       "      <td>May 4,1937</td>\n",
       "    </tr>\n",
       "  </tbody>\n",
       "</table>\n",
       "<p>3 rows × 26 columns</p>\n",
       "</div>"
      ],
      "text/plain": [
       "               Form     State        City Security_Grade  Area_Number  \\\n",
       "0  NS FORM-8 6-1-37  Maryland  Baltimore               A            2   \n",
       "1  NS FORM-8 6-1-37  Maryland  Baltimore               A            1   \n",
       "2  NS FORM-8 6-1-37  Maryland  Baltimore              A             3   \n",
       "\n",
       "  Terrain_Description                               Favorable_Influences  \\\n",
       "0             Rolling  Fairly new suburban area of homogeneous charac...   \n",
       "1         Undulating   Very nicely planned residential area of medium...   \n",
       "2             Rolling               Good residential area. Well planned.   \n",
       "\n",
       "  Detrimental_Influences              INHABITANTS_Type  \\\n",
       "0                   None      Substantial Middle Class   \n",
       "1                   None  Executives, Professional Men   \n",
       "2       Distance to City  Executives, Professional Men   \n",
       "\n",
       "  INHABITANTS_Annual_Income     ...     INHABITANTS_Population_Increase  \\\n",
       "0             $3000 - 5,000     ...                               Fast    \n",
       "1                over $5000     ...                     Moderately Fast   \n",
       "2               3500 - 7000     ...                     Moderately Fast   \n",
       "\n",
       "   INHABITANTS_Population_Decrease INHABITANTS_Population_Static  \\\n",
       "0                              NaN                           NaN   \n",
       "1                              NaN                           NaN   \n",
       "2                              NaN                           NaN   \n",
       "\n",
       "          BUILDINGS_Types   BUILDINGS_Construction  BUILDINGS_Age  \\\n",
       "0  Detached an row houses          Brick and frame  1 to 10 years   \n",
       "1  Single family detached          Brick and Stone       12 years   \n",
       "2     One family detached  Brick, Stone, and Frame  1 to 20 years   \n",
       "\n",
       "    BUILDINGS_Repair Ten_Fifteen_Desirability  \\\n",
       "0               Good                   Upward   \n",
       "1          Very good                   Upward   \n",
       "2  Good to excellent                   Upward   \n",
       "\n",
       "                                             Remarks        Date  \n",
       "0  A recent development with much room for expans...  May 4,1937  \n",
       "1  Mostly fee properties. A few homes valued at $...  May 4,1937  \n",
       "2  Principally fee property. This section lies in...  May 4,1937  \n",
       "\n",
       "[3 rows x 26 columns]"
      ]
     },
     "execution_count": 18,
     "metadata": {},
     "output_type": "execute_result"
    }
   ],
   "source": [
    "# Loads the Pandas library \n",
    "import pandas as pd\n",
    "\n",
    "# Creates data frame named df by reading in the Baltimore csv\n",
    "df = pd.read_csv(\"AD_Data_BaltimoreProject.csv\")\n",
    "df.head(n=3)"
   ]
  },
  {
   "cell_type": "markdown",
   "metadata": {},
   "source": [
    "<img src=\"Baltimore_AD_002.png\" width=400 >"
   ]
  },
  {
   "cell_type": "markdown",
   "metadata": {},
   "source": [
    "In Baltimore data frame, every row is a unique form, called an observation, and column represents a transcribed field from the form, called a variable. For example, in this form `SECUIRITY GRADE` has value A and `AREA NO.` has value 2. This form can be located in the first row with index 0 in the data frame above. "
   ]
  },
  {
   "cell_type": "markdown",
   "metadata": {},
   "source": [
    "## 2. Data Cleaning"
   ]
  },
  {
   "cell_type": "markdown",
   "metadata": {},
   "source": [
    "After obtaining our data, we need to clean, manipulate, and transform it for analysis and ease of use. This is called data wrangling."
   ]
  },
  {
   "cell_type": "markdown",
   "metadata": {},
   "source": [
    "### Handling Similar Text Values "
   ]
  },
  {
   "cell_type": "markdown",
   "metadata": {},
   "source": [
    "The `INHABITANTS_Foreignborn` varaible indicates whether there are foreigners in a region. Observe that different forms used 'No' or 'None' to indicate there are no foreigners, NaN indicates the value in the form is missing, and 'Small','Very few', and 'Mixture' are various ways of indicating there were foreigners. "
   ]
  },
  {
   "cell_type": "code",
   "execution_count": 79,
   "metadata": {
    "collapsed": false,
    "scrolled": false
   },
   "outputs": [
    {
     "data": {
      "text/plain": [
       "0           No\n",
       "1         None\n",
       "2         None\n",
       "3         None\n",
       "4         None\n",
       "5          NaN\n",
       "6           No\n",
       "7           No\n",
       "8           No\n",
       "9        Small\n",
       "10    Very few\n",
       "11          No\n",
       "12          No\n",
       "13          No\n",
       "14          No\n",
       "15     Mixture\n",
       "Name: INHABITANTS_Foreignborn, dtype: object"
      ]
     },
     "execution_count": 79,
     "metadata": {},
     "output_type": "execute_result"
    }
   ],
   "source": [
    "# Selects rows with indeces between 0 to 15 included of the 'INHABITANTS_Foreignborn' column\n",
    "df.ix[0:15,'INHABITANTS_Foreignborn']"
   ]
  },
  {
   "cell_type": "markdown",
   "metadata": {},
   "source": [
    "Since columns with standardized values are easier to analyze, we are going to transform this column to indicate whether there are foreigners or not. In Python, 'None' is a special keyword that indicates the cell has a null value. Therefore, we will alter all the 'None' values to 'No' and every other value that indicates there are to 'Yes'."
   ]
  },
  {
   "cell_type": "code",
   "execution_count": 80,
   "metadata": {
    "collapsed": false,
    "scrolled": false
   },
   "outputs": [
    {
     "data": {
      "text/plain": [
       "0      No\n",
       "1      No\n",
       "2      No\n",
       "3      No\n",
       "4      No\n",
       "5     Yes\n",
       "6      No\n",
       "7      No\n",
       "8      No\n",
       "9     Yes\n",
       "10    Yes\n",
       "11     No\n",
       "12     No\n",
       "13     No\n",
       "14     No\n",
       "15    Yes\n",
       "Name: INHABITANTS_Foreignborn, dtype: object"
      ]
     },
     "execution_count": 80,
     "metadata": {},
     "output_type": "execute_result"
    }
   ],
   "source": [
    "# Replaces the values of 'None' with 'No'\n",
    "df['INHABITANTS_Foreignborn'] = df['INHABITANTS_Foreignborn'].replace('None', 'No')\n",
    "\n",
    "# Replaces all other values with 'Yes'\n",
    "for value in df['INHABITANTS_Foreignborn']:\n",
    "    if value != 'No' and value != 'NaN':\n",
    "        df['INHABITANTS_Foreignborn'] = df['INHABITANTS_Foreignborn'].replace(value, 'Yes')\n",
    "\n",
    "df.ix[0:15,'INHABITANTS_Foreignborn']"
   ]
  },
  {
   "cell_type": "markdown",
   "metadata": {},
   "source": [
    "Detrimental_Influences - \n",
    "\n",
    "Notice in this case that there are multiple variations of the meaning of 'No' to be replaced. "
   ]
  },
  {
   "cell_type": "code",
   "execution_count": 81,
   "metadata": {
    "collapsed": false,
    "scrolled": true
   },
   "outputs": [
    {
     "data": {
      "text/plain": [
       "0                                          None\n",
       "1                                          None\n",
       "2                              Distance to City\n",
       "3                                          None\n",
       "4                                          None\n",
       "5                                           NaN\n",
       "6                                           No.\n",
       "7                                          None\n",
       "8     Few streets of property in poor condition\n",
       "9                                          None\n",
       "10                                         None\n",
       "11                      Built on filled ground.\n",
       "12                                         None\n",
       "13                                         None\n",
       "14                   Distance to center of city\n",
       "15                                         None\n",
       "Name: Detrimental_Influences, dtype: object"
      ]
     },
     "execution_count": 81,
     "metadata": {},
     "output_type": "execute_result"
    }
   ],
   "source": [
    "df.ix[0:15,'Detrimental_Influences']"
   ]
  },
  {
   "cell_type": "markdown",
   "metadata": {},
   "source": [
    "To handle the multiple words to be replaced we can use an array to store a string of values."
   ]
  },
  {
   "cell_type": "code",
   "execution_count": 82,
   "metadata": {
    "collapsed": false
   },
   "outputs": [],
   "source": [
    "no_words = ['No.','no', 'none', 'None']\n",
    "\n",
    "for word in no_words:\n",
    "    df['Detrimental_Influences'] = df['Detrimental_Influences'].replace( word , 'No')"
   ]
  },
  {
   "cell_type": "markdown",
   "metadata": {
    "collapsed": true
   },
   "source": [
    "We need to do these same operations for `INHABITANTS_Negro` and `INHABITANTS_Infiltration`. Functions\n",
    "paramters, arguments"
   ]
  },
  {
   "cell_type": "code",
   "execution_count": 83,
   "metadata": {
    "collapsed": false
   },
   "outputs": [],
   "source": [
    "def replace_values(attribute, new_word, words_to_replace):\n",
    "    for word in words_to_replace:\n",
    "        df[attribute] = df[attribute].replace(word, new_word) \n",
    "\n",
    "\n",
    "replace_values('INHABITANTS_Negro', 'No', no_words)\n",
    "replace_values('INHABITANTS_Infiltration', 'No', no_words)"
   ]
  },
  {
   "cell_type": "code",
   "execution_count": 84,
   "metadata": {
    "collapsed": false
   },
   "outputs": [
    {
     "data": {
      "text/plain": [
       "0                  No\n",
       "1                  No\n",
       "2                  No\n",
       "3                  No\n",
       "4                  No\n",
       "5                 NaN\n",
       "6                  No\n",
       "7                  No\n",
       "8                  No\n",
       "9                 NaN\n",
       "10                 No\n",
       "11                 No\n",
       "12                 No\n",
       "13                 No\n",
       "14                 No\n",
       "15    People from C-1\n",
       "Name: INHABITANTS_Infiltration, dtype: object"
      ]
     },
     "execution_count": 84,
     "metadata": {},
     "output_type": "execute_result"
    }
   ],
   "source": [
    "df.ix[0:15,'INHABITANTS_Infiltration']"
   ]
  },
  {
   "cell_type": "code",
   "execution_count": 85,
   "metadata": {
    "collapsed": false
   },
   "outputs": [],
   "source": [
    "# Various words meaning small \n",
    "small_words = ['Nominal','nominal', 'Small','small','Minimum', 'minimum','minimal', 'Very few']\n",
    "\n",
    "replace_values('INHABITANTS_Negro', 'Few', small_words)\n",
    "replace_values('INHABITANTS_Infiltration', 'Few', small_words)"
   ]
  },
  {
   "cell_type": "markdown",
   "metadata": {},
   "source": [
    "We can clean up the values of `INHABITANTS_Population_Increase` by choosing standard c"
   ]
  },
  {
   "cell_type": "code",
   "execution_count": 86,
   "metadata": {
    "collapsed": false
   },
   "outputs": [
    {
     "data": {
      "text/plain": [
       "0               Fast \n",
       "1     Moderately Fast\n",
       "2     Moderately Fast\n",
       "3              Slowly\n",
       "4     Moderately Fast\n",
       "5                 NaN\n",
       "6                 NaN\n",
       "7              Slowly\n",
       "8     Moderately Fast\n",
       "9     Moderately Fast\n",
       "10                NaN\n",
       "11             Slowly\n",
       "12             Slowly\n",
       "13         Moderately\n",
       "14             Slowly\n",
       "15              Fast \n",
       "Name: INHABITANTS_Population_Increase, dtype: object"
      ]
     },
     "execution_count": 86,
     "metadata": {},
     "output_type": "execute_result"
    }
   ],
   "source": [
    " df.ix[0:15,'INHABITANTS_Population_Increase']"
   ]
  },
  {
   "cell_type": "code",
   "execution_count": 87,
   "metadata": {
    "collapsed": true
   },
   "outputs": [],
   "source": [
    "# Will define degrees of speed as very slowly, slowly, moderately, moderately fast, fast\n",
    "\n",
    "# Defines values to replace in the table \n",
    "very_slowly = ['Very Slowly', 'very slowly', 'very Slowly']\n",
    "slowly = ['slowly', 'fairly slowly']\n",
    "moderately = ['moderately']\n",
    "moderately_fast = ['Moderately Fast', 'moderately Fast', 'moderately fast']\n",
    "fast = ['very fast', 'Very Fast', 'fast']\n",
    "\n",
    "# Applies function to obtain our new values \n",
    "replace_values('INHABITANTS_Population_Increase', 'Very slowly', very_slowly)\n",
    "replace_values('INHABITANTS_Population_Increase', 'Slowly', slowly)\n",
    "replace_values('INHABITANTS_Population_Increase', 'Moderately', moderately )\n",
    "replace_values('INHABITANTS_Population_Increase', 'Moderately fast', moderately_fast)\n",
    "replace_values('INHABITANTS_Population_Increase', 'Moderately fast', moderately_fast)\n",
    "replace_values('INHABITANTS_Population_Increase', 'Fast', fast)\n"
   ]
  },
  {
   "cell_type": "code",
   "execution_count": 88,
   "metadata": {
    "collapsed": false
   },
   "outputs": [
    {
     "data": {
      "text/plain": [
       "0               Fast \n",
       "1     Moderately fast\n",
       "2     Moderately fast\n",
       "3              Slowly\n",
       "4     Moderately fast\n",
       "5                 NaN\n",
       "6                 NaN\n",
       "7              Slowly\n",
       "8     Moderately fast\n",
       "9     Moderately fast\n",
       "10                NaN\n",
       "11             Slowly\n",
       "12             Slowly\n",
       "13         Moderately\n",
       "14             Slowly\n",
       "15              Fast \n",
       "Name: INHABITANTS_Population_Increase, dtype: object"
      ]
     },
     "execution_count": 88,
     "metadata": {},
     "output_type": "execute_result"
    }
   ],
   "source": [
    " df.ix[0:15,'INHABITANTS_Population_Increase']"
   ]
  },
  {
   "cell_type": "markdown",
   "metadata": {},
   "source": [
    "### String Parsing to Extract Data"
   ]
  },
  {
   "cell_type": "markdown",
   "metadata": {},
   "source": [
    "Some of the cities have corresponding suburbs followed by a dash. We can extract the suburbs and create a new column using  `str.split()`."
   ]
  },
  {
   "cell_type": "code",
   "execution_count": 89,
   "metadata": {
    "collapsed": false
   },
   "outputs": [
    {
     "data": {
      "text/plain": [
       "16                                Baltimore \n",
       "17                       Baltimore - Dundalk\n",
       "18                                 Baltimore\n",
       "19                  Baltimore - Metropolitan\n",
       "20                                 Baltimore\n",
       "21                  Baltimore - Metropolitan\n",
       "22                                 Baltimore\n",
       "23                   Baltimore - Sub. Burton\n",
       "24    Baltimore - Sub. Mt. Washington Summit\n",
       "25                Baltimore - Sub. Villahove\n",
       "26            Baltimore - Sub. Colonial Park\n",
       "27        Baltimore - Sub. Linthicum Heights\n",
       "28                                 Baltimore\n",
       "29                                 Baltimore\n",
       "30                                 Baltimore\n",
       "Name: City, dtype: object"
      ]
     },
     "execution_count": 89,
     "metadata": {},
     "output_type": "execute_result"
    }
   ],
   "source": [
    "df.ix[16:30,'City']"
   ]
  },
  {
   "cell_type": "code",
   "execution_count": 90,
   "metadata": {
    "collapsed": false,
    "scrolled": true
   },
   "outputs": [],
   "source": [
    "# Creates a new data frame that splits the values in the orginal data frame on the '-' character \n",
    "newdf = df[\"City\"].str.split('-', n = 1, expand = True) \n",
    "newdf.head()\n",
    "\n",
    "# Creates two new columns \n",
    "df['City_clean'] = newdf[0]\n",
    "df['Suburb'] = newdf[1]\n",
    "\n",
    "# removes the old column\n",
    "df.drop([\"City\"], axis = 1, inplace = True) \n",
    "\n",
    "# renames as 'City'\n",
    "df.rename(index=str, columns={\"City_clean\": \"City\"});"
   ]
  },
  {
   "cell_type": "code",
   "execution_count": 91,
   "metadata": {
    "collapsed": false
   },
   "outputs": [
    {
     "data": {
      "text/html": [
       "<div>\n",
       "<table border=\"1\" class=\"dataframe\">\n",
       "  <thead>\n",
       "    <tr style=\"text-align: right;\">\n",
       "      <th></th>\n",
       "      <th>Suburb</th>\n",
       "    </tr>\n",
       "  </thead>\n",
       "  <tbody>\n",
       "    <tr>\n",
       "      <th>16</th>\n",
       "      <td>None</td>\n",
       "    </tr>\n",
       "    <tr>\n",
       "      <th>17</th>\n",
       "      <td>Dundalk</td>\n",
       "    </tr>\n",
       "    <tr>\n",
       "      <th>18</th>\n",
       "      <td>None</td>\n",
       "    </tr>\n",
       "    <tr>\n",
       "      <th>19</th>\n",
       "      <td>Metropolitan</td>\n",
       "    </tr>\n",
       "    <tr>\n",
       "      <th>20</th>\n",
       "      <td>None</td>\n",
       "    </tr>\n",
       "    <tr>\n",
       "      <th>21</th>\n",
       "      <td>Metropolitan</td>\n",
       "    </tr>\n",
       "    <tr>\n",
       "      <th>22</th>\n",
       "      <td>None</td>\n",
       "    </tr>\n",
       "    <tr>\n",
       "      <th>23</th>\n",
       "      <td>Sub. Burton</td>\n",
       "    </tr>\n",
       "    <tr>\n",
       "      <th>24</th>\n",
       "      <td>Sub. Mt. Washington Summit</td>\n",
       "    </tr>\n",
       "    <tr>\n",
       "      <th>25</th>\n",
       "      <td>Sub. Villahove</td>\n",
       "    </tr>\n",
       "    <tr>\n",
       "      <th>26</th>\n",
       "      <td>Sub. Colonial Park</td>\n",
       "    </tr>\n",
       "    <tr>\n",
       "      <th>27</th>\n",
       "      <td>Sub. Linthicum Heights</td>\n",
       "    </tr>\n",
       "    <tr>\n",
       "      <th>28</th>\n",
       "      <td>None</td>\n",
       "    </tr>\n",
       "    <tr>\n",
       "      <th>29</th>\n",
       "      <td>None</td>\n",
       "    </tr>\n",
       "    <tr>\n",
       "      <th>30</th>\n",
       "      <td>None</td>\n",
       "    </tr>\n",
       "  </tbody>\n",
       "</table>\n",
       "</div>"
      ],
      "text/plain": [
       "                         Suburb\n",
       "16                         None\n",
       "17                      Dundalk\n",
       "18                         None\n",
       "19                 Metropolitan\n",
       "20                         None\n",
       "21                 Metropolitan\n",
       "22                         None\n",
       "23                  Sub. Burton\n",
       "24   Sub. Mt. Washington Summit\n",
       "25               Sub. Villahove\n",
       "26           Sub. Colonial Park\n",
       "27       Sub. Linthicum Heights\n",
       "28                         None\n",
       "29                         None\n",
       "30                         None"
      ]
     },
     "execution_count": 91,
     "metadata": {},
     "output_type": "execute_result"
    }
   ],
   "source": [
    "df.ix[16:30,['Suburb']]"
   ]
  },
  {
   "cell_type": "markdown",
   "metadata": {
    "collapsed": true
   },
   "source": [
    "The `BUILDINGS_Age` attribute represents the range of the age of the buildings in a region. Notice the range is given is given as a string of text. For purpose of analysis, we would like to extract the upper end of the range and create a column of numeric values."
   ]
  },
  {
   "cell_type": "code",
   "execution_count": 101,
   "metadata": {
    "collapsed": false,
    "scrolled": false
   },
   "outputs": [
    {
     "data": {
      "text/plain": [
       "0      1 to 10 years\n",
       "1           12 years\n",
       "2      1 to 20 years\n",
       "3           10 years\n",
       "4      1 to 20 years\n",
       "5                NaN\n",
       "6           25 years\n",
       "7     15 to 25 years\n",
       "8           15 years\n",
       "9      5 to 25 years\n",
       "10          20 years\n",
       "11     5 to 10 years\n",
       "12          10 years\n",
       "13          25 years\n",
       "14     1 to 20 years\n",
       "15     6 to 25 years\n",
       "Name: BUILDINGS_Age, dtype: object"
      ]
     },
     "execution_count": 101,
     "metadata": {},
     "output_type": "execute_result"
    }
   ],
   "source": [
    "df.ix[0:15,'BUILDINGS_Age']"
   ]
  },
  {
   "cell_type": "markdown",
   "metadata": {},
   "source": [
    "Observe that the number to extract is always the last number .."
   ]
  },
  {
   "cell_type": "code",
   "execution_count": 93,
   "metadata": {
    "collapsed": false
   },
   "outputs": [],
   "source": [
    "df['max_building_age'] = df['BUILDINGS_Age'].str.extract('(\\d+)(?!.*\\d)', expand=True)"
   ]
  },
  {
   "cell_type": "code",
   "execution_count": 94,
   "metadata": {
    "collapsed": false
   },
   "outputs": [
    {
     "data": {
      "text/html": [
       "<div>\n",
       "<table border=\"1\" class=\"dataframe\">\n",
       "  <thead>\n",
       "    <tr style=\"text-align: right;\">\n",
       "      <th></th>\n",
       "      <th>BUILDINGS_Age</th>\n",
       "      <th>max_building_age</th>\n",
       "    </tr>\n",
       "  </thead>\n",
       "  <tbody>\n",
       "    <tr>\n",
       "      <th>0</th>\n",
       "      <td>1 to 10 years</td>\n",
       "      <td>10</td>\n",
       "    </tr>\n",
       "    <tr>\n",
       "      <th>1</th>\n",
       "      <td>12 years</td>\n",
       "      <td>12</td>\n",
       "    </tr>\n",
       "    <tr>\n",
       "      <th>2</th>\n",
       "      <td>1 to 20 years</td>\n",
       "      <td>20</td>\n",
       "    </tr>\n",
       "    <tr>\n",
       "      <th>3</th>\n",
       "      <td>10 years</td>\n",
       "      <td>10</td>\n",
       "    </tr>\n",
       "    <tr>\n",
       "      <th>4</th>\n",
       "      <td>1 to 20 years</td>\n",
       "      <td>20</td>\n",
       "    </tr>\n",
       "    <tr>\n",
       "      <th>5</th>\n",
       "      <td>NaN</td>\n",
       "      <td>NaN</td>\n",
       "    </tr>\n",
       "    <tr>\n",
       "      <th>6</th>\n",
       "      <td>25 years</td>\n",
       "      <td>25</td>\n",
       "    </tr>\n",
       "    <tr>\n",
       "      <th>7</th>\n",
       "      <td>15 to 25 years</td>\n",
       "      <td>25</td>\n",
       "    </tr>\n",
       "    <tr>\n",
       "      <th>8</th>\n",
       "      <td>15 years</td>\n",
       "      <td>15</td>\n",
       "    </tr>\n",
       "    <tr>\n",
       "      <th>9</th>\n",
       "      <td>5 to 25 years</td>\n",
       "      <td>25</td>\n",
       "    </tr>\n",
       "    <tr>\n",
       "      <th>10</th>\n",
       "      <td>20 years</td>\n",
       "      <td>20</td>\n",
       "    </tr>\n",
       "    <tr>\n",
       "      <th>11</th>\n",
       "      <td>5 to 10 years</td>\n",
       "      <td>10</td>\n",
       "    </tr>\n",
       "    <tr>\n",
       "      <th>12</th>\n",
       "      <td>10 years</td>\n",
       "      <td>10</td>\n",
       "    </tr>\n",
       "    <tr>\n",
       "      <th>13</th>\n",
       "      <td>25 years</td>\n",
       "      <td>25</td>\n",
       "    </tr>\n",
       "    <tr>\n",
       "      <th>14</th>\n",
       "      <td>1 to 20 years</td>\n",
       "      <td>20</td>\n",
       "    </tr>\n",
       "    <tr>\n",
       "      <th>15</th>\n",
       "      <td>6 to 25 years</td>\n",
       "      <td>25</td>\n",
       "    </tr>\n",
       "  </tbody>\n",
       "</table>\n",
       "</div>"
      ],
      "text/plain": [
       "     BUILDINGS_Age max_building_age\n",
       "0    1 to 10 years               10\n",
       "1         12 years               12\n",
       "2    1 to 20 years               20\n",
       "3         10 years               10\n",
       "4    1 to 20 years               20\n",
       "5              NaN              NaN\n",
       "6         25 years               25\n",
       "7   15 to 25 years               25\n",
       "8         15 years               15\n",
       "9    5 to 25 years               25\n",
       "10        20 years               20\n",
       "11   5 to 10 years               10\n",
       "12        10 years               10\n",
       "13        25 years               25\n",
       "14   1 to 20 years               20\n",
       "15   6 to 25 years               25"
      ]
     },
     "execution_count": 94,
     "metadata": {},
     "output_type": "execute_result"
    }
   ],
   "source": [
    "df.ix[0:15,['BUILDINGS_Age','max_building_age']]"
   ]
  },
  {
   "cell_type": "markdown",
   "metadata": {},
   "source": [
    "### Handling Dates "
   ]
  },
  {
   "cell_type": "markdown",
   "metadata": {
    "collapsed": true
   },
   "source": [
    " The `Date` column has three attributes given by **month day, year**."
   ]
  },
  {
   "cell_type": "code",
   "execution_count": 95,
   "metadata": {
    "collapsed": false
   },
   "outputs": [
    {
     "data": {
      "text/html": [
       "<div>\n",
       "<table border=\"1\" class=\"dataframe\">\n",
       "  <thead>\n",
       "    <tr style=\"text-align: right;\">\n",
       "      <th></th>\n",
       "      <th>Date</th>\n",
       "    </tr>\n",
       "  </thead>\n",
       "  <tbody>\n",
       "    <tr>\n",
       "      <th>0</th>\n",
       "      <td>May 4,1937</td>\n",
       "    </tr>\n",
       "    <tr>\n",
       "      <th>1</th>\n",
       "      <td>May 4,1937</td>\n",
       "    </tr>\n",
       "    <tr>\n",
       "      <th>2</th>\n",
       "      <td>May 4,1937</td>\n",
       "    </tr>\n",
       "    <tr>\n",
       "      <th>3</th>\n",
       "      <td>May 4,1937</td>\n",
       "    </tr>\n",
       "    <tr>\n",
       "      <th>4</th>\n",
       "      <td>NaN</td>\n",
       "    </tr>\n",
       "    <tr>\n",
       "      <th>5</th>\n",
       "      <td>NaN</td>\n",
       "    </tr>\n",
       "    <tr>\n",
       "      <th>6</th>\n",
       "      <td>NaN</td>\n",
       "    </tr>\n",
       "    <tr>\n",
       "      <th>7</th>\n",
       "      <td>May 4,1937</td>\n",
       "    </tr>\n",
       "  </tbody>\n",
       "</table>\n",
       "</div>"
      ],
      "text/plain": [
       "         Date\n",
       "0  May 4,1937\n",
       "1  May 4,1937\n",
       "2  May 4,1937\n",
       "3  May 4,1937\n",
       "4         NaN\n",
       "5         NaN\n",
       "6         NaN\n",
       "7  May 4,1937"
      ]
     },
     "execution_count": 95,
     "metadata": {},
     "output_type": "execute_result"
    }
   ],
   "source": [
    "df.ix[0:7,['Date']]"
   ]
  },
  {
   "cell_type": "markdown",
   "metadata": {},
   "source": [
    "We can seperate this column into three columns:  `Month`, `Day`, and `Year` using `str.extract()` and regular expressions."
   ]
  },
  {
   "cell_type": "code",
   "execution_count": 103,
   "metadata": {
    "collapsed": false
   },
   "outputs": [
    {
     "data": {
      "text/html": [
       "<div>\n",
       "<table border=\"1\" class=\"dataframe\">\n",
       "  <thead>\n",
       "    <tr style=\"text-align: right;\">\n",
       "      <th></th>\n",
       "      <th>Date</th>\n",
       "      <th>Month</th>\n",
       "      <th>Day</th>\n",
       "      <th>Year</th>\n",
       "    </tr>\n",
       "  </thead>\n",
       "  <tbody>\n",
       "    <tr>\n",
       "      <th>0</th>\n",
       "      <td>May 4,1937</td>\n",
       "      <td>May</td>\n",
       "      <td>4</td>\n",
       "      <td>1937</td>\n",
       "    </tr>\n",
       "    <tr>\n",
       "      <th>1</th>\n",
       "      <td>May 4,1937</td>\n",
       "      <td>May</td>\n",
       "      <td>4</td>\n",
       "      <td>1937</td>\n",
       "    </tr>\n",
       "    <tr>\n",
       "      <th>2</th>\n",
       "      <td>May 4,1937</td>\n",
       "      <td>May</td>\n",
       "      <td>4</td>\n",
       "      <td>1937</td>\n",
       "    </tr>\n",
       "    <tr>\n",
       "      <th>3</th>\n",
       "      <td>May 4,1937</td>\n",
       "      <td>May</td>\n",
       "      <td>4</td>\n",
       "      <td>1937</td>\n",
       "    </tr>\n",
       "    <tr>\n",
       "      <th>4</th>\n",
       "      <td>NaN</td>\n",
       "      <td>NaN</td>\n",
       "      <td>NaN</td>\n",
       "      <td>NaN</td>\n",
       "    </tr>\n",
       "    <tr>\n",
       "      <th>5</th>\n",
       "      <td>NaN</td>\n",
       "      <td>NaN</td>\n",
       "      <td>NaN</td>\n",
       "      <td>NaN</td>\n",
       "    </tr>\n",
       "    <tr>\n",
       "      <th>6</th>\n",
       "      <td>NaN</td>\n",
       "      <td>NaN</td>\n",
       "      <td>NaN</td>\n",
       "      <td>NaN</td>\n",
       "    </tr>\n",
       "    <tr>\n",
       "      <th>7</th>\n",
       "      <td>May 4,1937</td>\n",
       "      <td>May</td>\n",
       "      <td>4</td>\n",
       "      <td>1937</td>\n",
       "    </tr>\n",
       "  </tbody>\n",
       "</table>\n",
       "</div>"
      ],
      "text/plain": [
       "         Date Month  Day  Year\n",
       "0  May 4,1937   May    4  1937\n",
       "1  May 4,1937   May    4  1937\n",
       "2  May 4,1937   May    4  1937\n",
       "3  May 4,1937   May    4  1937\n",
       "4         NaN   NaN  NaN   NaN\n",
       "5         NaN   NaN  NaN   NaN\n",
       "6         NaN   NaN  NaN   NaN\n",
       "7  May 4,1937   May    4  1937"
      ]
     },
     "execution_count": 103,
     "metadata": {},
     "output_type": "execute_result"
    }
   ],
   "source": [
    "# extracts the year using regular expression (\\d\\d\\d\\d) to indicate 4 digit date\n",
    "df['Year'] = df['Date'].str.extract('(\\d\\d\\d\\d)', expand=True)\n",
    "\n",
    "# extracts day using regular expression \\d to indicate single digit\n",
    "df['Day'] = df['Date'].str.extract('(\\d)', expand=True)\n",
    "\n",
    "# extracts month using regular expression [A-Z]\\w{0,} to indicate string of characters\n",
    "df['Month'] = df['Date'].str.extract('([A-Z]\\w{0,})', expand=True)\n",
    "\n",
    "df.ix[0:7,['Date','Month','Day','Year']]"
   ]
  },
  {
   "cell_type": "markdown",
   "metadata": {},
   "source": [
    "## 3. Data Manipulation "
   ]
  },
  {
   "cell_type": "markdown",
   "metadata": {},
   "source": [
    "### Encoding Categorical Data"
   ]
  },
  {
   "cell_type": "code",
   "execution_count": 97,
   "metadata": {
    "collapsed": false
   },
   "outputs": [
    {
     "data": {
      "text/plain": [
       "0               Fast \n",
       "1     Moderately fast\n",
       "2     Moderately fast\n",
       "3              Slowly\n",
       "4     Moderately fast\n",
       "5                 NaN\n",
       "6                 NaN\n",
       "7              Slowly\n",
       "8     Moderately fast\n",
       "9     Moderately fast\n",
       "10                NaN\n",
       "11             Slowly\n",
       "12             Slowly\n",
       "13         Moderately\n",
       "14             Slowly\n",
       "15              Fast \n",
       "Name: INHABITANTS_Population_Increase, dtype: object"
      ]
     },
     "execution_count": 97,
     "metadata": {},
     "output_type": "execute_result"
    }
   ],
   "source": [
    " df.ix[0:15,'INHABITANTS_Population_Increase']"
   ]
  },
  {
   "cell_type": "markdown",
   "metadata": {},
   "source": [
    "### Sorting and Grouping "
   ]
  },
  {
   "cell_type": "code",
   "execution_count": 98,
   "metadata": {
    "collapsed": false,
    "scrolled": true
   },
   "outputs": [
    {
     "data": {
      "text/html": [
       "<div>\n",
       "<table border=\"1\" class=\"dataframe\">\n",
       "  <thead>\n",
       "    <tr style=\"text-align: right;\">\n",
       "      <th></th>\n",
       "      <th>Security_Grade</th>\n",
       "      <th>Area_Number</th>\n",
       "    </tr>\n",
       "  </thead>\n",
       "  <tbody>\n",
       "    <tr>\n",
       "      <th>0</th>\n",
       "      <td>A</td>\n",
       "      <td>2</td>\n",
       "    </tr>\n",
       "    <tr>\n",
       "      <th>1</th>\n",
       "      <td>A</td>\n",
       "      <td>1</td>\n",
       "    </tr>\n",
       "    <tr>\n",
       "      <th>2</th>\n",
       "      <td>A</td>\n",
       "      <td>3</td>\n",
       "    </tr>\n",
       "    <tr>\n",
       "      <th>3</th>\n",
       "      <td>A</td>\n",
       "      <td>4</td>\n",
       "    </tr>\n",
       "    <tr>\n",
       "      <th>4</th>\n",
       "      <td>A</td>\n",
       "      <td>5</td>\n",
       "    </tr>\n",
       "    <tr>\n",
       "      <th>5</th>\n",
       "      <td>A</td>\n",
       "      <td>6</td>\n",
       "    </tr>\n",
       "    <tr>\n",
       "      <th>6</th>\n",
       "      <td>B</td>\n",
       "      <td>1</td>\n",
       "    </tr>\n",
       "    <tr>\n",
       "      <th>7</th>\n",
       "      <td>B</td>\n",
       "      <td>2</td>\n",
       "    </tr>\n",
       "    <tr>\n",
       "      <th>8</th>\n",
       "      <td>B</td>\n",
       "      <td>3</td>\n",
       "    </tr>\n",
       "    <tr>\n",
       "      <th>9</th>\n",
       "      <td>B</td>\n",
       "      <td>4</td>\n",
       "    </tr>\n",
       "    <tr>\n",
       "      <th>10</th>\n",
       "      <td>B</td>\n",
       "      <td>5</td>\n",
       "    </tr>\n",
       "  </tbody>\n",
       "</table>\n",
       "</div>"
      ],
      "text/plain": [
       "   Security_Grade  Area_Number\n",
       "0               A            2\n",
       "1               A            1\n",
       "2              A             3\n",
       "3               A            4\n",
       "4              A             5\n",
       "5               A            6\n",
       "6               B            1\n",
       "7               B            2\n",
       "8               B            3\n",
       "9               B            4\n",
       "10              B            5"
      ]
     },
     "execution_count": 98,
     "metadata": {},
     "output_type": "execute_result"
    }
   ],
   "source": [
    "df.ix[0:10,['Security_Grade','Area_Number']]"
   ]
  },
  {
   "cell_type": "code",
   "execution_count": 99,
   "metadata": {
    "collapsed": false,
    "scrolled": false
   },
   "outputs": [
    {
     "data": {
      "text/html": [
       "<div>\n",
       "<table border=\"1\" class=\"dataframe\">\n",
       "  <thead>\n",
       "    <tr style=\"text-align: right;\">\n",
       "      <th></th>\n",
       "      <th>Security_Grade</th>\n",
       "      <th>Area_Number</th>\n",
       "    </tr>\n",
       "  </thead>\n",
       "  <tbody>\n",
       "    <tr>\n",
       "      <th>0</th>\n",
       "      <td>A</td>\n",
       "      <td>2</td>\n",
       "    </tr>\n",
       "    <tr>\n",
       "      <th>3</th>\n",
       "      <td>A</td>\n",
       "      <td>4</td>\n",
       "    </tr>\n",
       "    <tr>\n",
       "      <th>5</th>\n",
       "      <td>A</td>\n",
       "      <td>6</td>\n",
       "    </tr>\n",
       "    <tr>\n",
       "      <th>2</th>\n",
       "      <td>A</td>\n",
       "      <td>3</td>\n",
       "    </tr>\n",
       "    <tr>\n",
       "      <th>4</th>\n",
       "      <td>A</td>\n",
       "      <td>5</td>\n",
       "    </tr>\n",
       "    <tr>\n",
       "      <th>6</th>\n",
       "      <td>B</td>\n",
       "      <td>1</td>\n",
       "    </tr>\n",
       "    <tr>\n",
       "      <th>7</th>\n",
       "      <td>B</td>\n",
       "      <td>2</td>\n",
       "    </tr>\n",
       "    <tr>\n",
       "      <th>8</th>\n",
       "      <td>B</td>\n",
       "      <td>3</td>\n",
       "    </tr>\n",
       "    <tr>\n",
       "      <th>9</th>\n",
       "      <td>B</td>\n",
       "      <td>4</td>\n",
       "    </tr>\n",
       "    <tr>\n",
       "      <th>10</th>\n",
       "      <td>B</td>\n",
       "      <td>5</td>\n",
       "    </tr>\n",
       "  </tbody>\n",
       "</table>\n",
       "</div>"
      ],
      "text/plain": [
       "   Security_Grade  Area_Number\n",
       "0               A            2\n",
       "3               A            4\n",
       "5               A            6\n",
       "2              A             3\n",
       "4              A             5\n",
       "6               B            1\n",
       "7               B            2\n",
       "8               B            3\n",
       "9               B            4\n",
       "10              B            5"
      ]
     },
     "execution_count": 99,
     "metadata": {},
     "output_type": "execute_result"
    }
   ],
   "source": [
    "sort_by_area_number = df.sort_values(['Security_Grade', 'Area_Number'])\n",
    "sort_by_area_number.ix[0:10,['Security_Grade','Area_Number']]\n",
    "#bug A1 gone and A3 in wrong position "
   ]
  },
  {
   "cell_type": "markdown",
   "metadata": {},
   "source": [
    "## 4. Data Analysis "
   ]
  },
  {
   "cell_type": "code",
   "execution_count": 100,
   "metadata": {
    "collapsed": false
   },
   "outputs": [
    {
     "data": {
      "text/plain": [
       "count     46\n",
       "unique    12\n",
       "top       25\n",
       "freq       9\n",
       "Name: max_building_age, dtype: object"
      ]
     },
     "execution_count": 100,
     "metadata": {},
     "output_type": "execute_result"
    }
   ],
   "source": [
    "df['max_building_age'].describe()"
   ]
  },
  {
   "cell_type": "code",
   "execution_count": null,
   "metadata": {
    "collapsed": false
   },
   "outputs": [],
   "source": [
    "# converts max_building age to numeric type\n",
    "df[\"max_building_age\"] = pd.to_numeric(df[\"max_building_age\"])\n",
    "df['max_building_age'].describe()"
   ]
  },
  {
   "cell_type": "markdown",
   "metadata": {},
   "source": [
    "### Text Analysis "
   ]
  },
  {
   "cell_type": "code",
   "execution_count": 69,
   "metadata": {
    "collapsed": false,
    "scrolled": true
   },
   "outputs": [
    {
     "data": {
      "text/plain": [
       "0     Fairly new suburban area of homogeneous charac...\n",
       "1     Very nicely planned residential area of medium...\n",
       "2                  Good residential area. Well planned.\n",
       "3                    Well planned development of fairly\n",
       "4     Desirable residential section. Good quality, m...\n",
       "5             To be developed as high grade development\n",
       "6     Desirable old residential section. Principally...\n",
       "7     Restricted, desirable residential section of m...\n",
       "8     Good residential section of fast moving property.\n",
       "9     Good suburban residential area of modest homes...\n",
       "10    Good residential section of homogeneous charac...\n",
       "11       Near Druid Hill Park. Close to center of city.\n",
       "12          Stable residential section of modest homes.\n",
       "13            Good residential area holding up in value\n",
       "14    Fairly good residential section with all conve...\n",
       "15    Desirable residential section, homogeneous as ...\n",
       "16    Homogeneous development. Near to parks. Transp...\n",
       "17    Near to Sparrows Point. Desirable residential ...\n",
       "18      Quiet suburban section of homogeneous character\n",
       "19                     Outlying quiet suburban section.\n",
       "20    Stable old residential section of good character.\n",
       "21    Outlying quiet suburban section. County east o...\n",
       "22    Very high. Fairly new residential section of h...\n",
       "23    Desirable residential section of very good cha...\n",
       "24    Suburban atmosphere. Desirable residential sec...\n",
       "25    A fairly new development of single homes in de...\n",
       "26    The natural section for expansion from Liberty...\n",
       "27    Desirable residential section of good characte...\n",
       "28    Close to commercial area. Fairly desirable res...\n",
       "29            Stable residential area of modest houses.\n",
       "30    Conversion value of location for business purp...\n",
       "31    Outlying residential section of small modest h...\n",
       "32                                                 None\n",
       "33                      Proximity to industrial plants.\n",
       "34    Old residential section of modest character in...\n",
       "35      Fairly good residential section of modest homes\n",
       "36    Proximity to Patterson Park. Near to industria...\n",
       "37      Near to employment, particularly Sparrows Point\n",
       "38    Fairly desirable residential area of rather ol...\n",
       "39    Close to commercial area. Goucher college loca...\n",
       "40                        Proximity to Druid Hill Park.\n",
       "41                             Close to commercial area\n",
       "42                                                  NaN\n",
       "43                                 Fairly good location\n",
       "44            Fairly desirable section of modest houses\n",
       "45                         On Washington-Baltimore Pike\n",
       "46                                  Suburban atmosphere\n",
       "47     Similar in general character to Lansdowns (C-19)\n",
       "48    Similar in character to Lansdowne except furth...\n",
       "49             Similar in character to Lansdowne (C-19)\n",
       "50    Proximity to employment, industrial and commer...\n",
       "51                      Close to industrial employment.\n",
       "52               Good transportation. Central location.\n",
       "53                   Central location. Near employment.\n",
       "54                           Near desirable properties.\n",
       "55           Central locations. Conversion to business.\n",
       "56    Central location. Conversion value for busines...\n",
       "Name: Favorable_Influences, dtype: object"
      ]
     },
     "execution_count": 69,
     "metadata": {},
     "output_type": "execute_result"
    }
   ],
   "source": [
    "df['Favorable_Influences']"
   ]
  },
  {
   "cell_type": "code",
   "execution_count": 70,
   "metadata": {
    "collapsed": true
   },
   "outputs": [],
   "source": [
    "# Convert from type object to type string \n",
    "df['Favorable_Influences'] = df['Favorable_Influences'].astype(str)\n",
    "# Case normalization\n",
    "df['Favorable_Influences'] = df['Favorable_Influences'].str.lower()"
   ]
  },
  {
   "cell_type": "code",
   "execution_count": 71,
   "metadata": {
    "collapsed": false,
    "scrolled": true
   },
   "outputs": [
    {
     "data": {
      "text/plain": [
       "0     fairly new suburban area of homogeneous charac...\n",
       "1     very nicely planned residential area of medium...\n",
       "2                  good residential area. well planned.\n",
       "3                    well planned development of fairly\n",
       "4     desirable residential section. good quality, m...\n",
       "5             to be developed as high grade development\n",
       "6     desirable old residential section. principally...\n",
       "7     restricted, desirable residential section of m...\n",
       "8     good residential section of fast moving property.\n",
       "9     good suburban residential area of modest homes...\n",
       "10    good residential section of homogeneous charac...\n",
       "11       near druid hill park. close to center of city.\n",
       "12          stable residential section of modest homes.\n",
       "13            good residential area holding up in value\n",
       "14    fairly good residential section with all conve...\n",
       "15    desirable residential section, homogeneous as ...\n",
       "16    homogeneous development. near to parks. transp...\n",
       "17    near to sparrows point. desirable residential ...\n",
       "18      quiet suburban section of homogeneous character\n",
       "19                     outlying quiet suburban section.\n",
       "20    stable old residential section of good character.\n",
       "21    outlying quiet suburban section. county east o...\n",
       "22    very high. fairly new residential section of h...\n",
       "23    desirable residential section of very good cha...\n",
       "24    suburban atmosphere. desirable residential sec...\n",
       "25    a fairly new development of single homes in de...\n",
       "26    the natural section for expansion from liberty...\n",
       "27    desirable residential section of good characte...\n",
       "28    close to commercial area. fairly desirable res...\n",
       "29            stable residential area of modest houses.\n",
       "30    conversion value of location for business purp...\n",
       "31    outlying residential section of small modest h...\n",
       "32                                                 none\n",
       "33                      proximity to industrial plants.\n",
       "34    old residential section of modest character in...\n",
       "35      fairly good residential section of modest homes\n",
       "36    proximity to patterson park. near to industria...\n",
       "37      near to employment, particularly sparrows point\n",
       "38    fairly desirable residential area of rather ol...\n",
       "39    close to commercial area. goucher college loca...\n",
       "40                        proximity to druid hill park.\n",
       "41                             close to commercial area\n",
       "42                                                  nan\n",
       "43                                 fairly good location\n",
       "44            fairly desirable section of modest houses\n",
       "45                         on washington-baltimore pike\n",
       "46                                  suburban atmosphere\n",
       "47     similar in general character to lansdowns (c-19)\n",
       "48    similar in character to lansdowne except furth...\n",
       "49             similar in character to lansdowne (c-19)\n",
       "50    proximity to employment, industrial and commer...\n",
       "51                      close to industrial employment.\n",
       "52               good transportation. central location.\n",
       "53                   central location. near employment.\n",
       "54                           near desirable properties.\n",
       "55           central locations. conversion to business.\n",
       "56    central location. conversion value for busines...\n",
       "Name: Favorable_Influences, dtype: object"
      ]
     },
     "execution_count": 71,
     "metadata": {},
     "output_type": "execute_result"
    }
   ],
   "source": [
    "df['Favorable_Influences']"
   ]
  },
  {
   "cell_type": "code",
   "execution_count": 72,
   "metadata": {
    "collapsed": false
   },
   "outputs": [],
   "source": [
    "# remove punctuation \n",
    "df['Favorable_Influences'] = df['Favorable_Influences'].str.replace('[^\\w\\s]','')"
   ]
  },
  {
   "cell_type": "code",
   "execution_count": 73,
   "metadata": {
    "collapsed": false
   },
   "outputs": [
    {
     "data": {
      "text/plain": [
       "0     fairly new suburban area of homogeneous charac...\n",
       "1     very nicely planned residential area of medium...\n",
       "2                    good residential area well planned\n",
       "3                    well planned development of fairly\n",
       "4     desirable residential section good quality med...\n",
       "5             to be developed as high grade development\n",
       "6     desirable old residential section principally ...\n",
       "7     restricted desirable residential section of mo...\n",
       "8      good residential section of fast moving property\n",
       "9     good suburban residential area of modest homes...\n",
       "10    good residential section of homogeneous character\n",
       "11         near druid hill park close to center of city\n",
       "12           stable residential section of modest homes\n",
       "13            good residential area holding up in value\n",
       "14    fairly good residential section with all conve...\n",
       "15    desirable residential section homogeneous as t...\n",
       "16    homogeneous development near to parks transpor...\n",
       "17    near to sparrows point desirable residential s...\n",
       "18      quiet suburban section of homogeneous character\n",
       "19                      outlying quiet suburban section\n",
       "20     stable old residential section of good character\n",
       "21    outlying quiet suburban section county east of...\n",
       "22    very high fairly new residential section of ho...\n",
       "23    desirable residential section of very good cha...\n",
       "24    suburban atmosphere desirable residential section\n",
       "25    a fairly new development of single homes in de...\n",
       "26    the natural section for expansion from liberty...\n",
       "27    desirable residential section of good characte...\n",
       "28    close to commercial area fairly desirable resi...\n",
       "29             stable residential area of modest houses\n",
       "30    conversion value of location for business purp...\n",
       "31    outlying residential section of small modest h...\n",
       "32                                                 none\n",
       "33                       proximity to industrial plants\n",
       "34    old residential section of modest character in...\n",
       "35      fairly good residential section of modest homes\n",
       "36    proximity to patterson park near to industrial...\n",
       "37       near to employment particularly sparrows point\n",
       "38    fairly desirable residential area of rather ol...\n",
       "39    close to commercial area goucher college locat...\n",
       "40                         proximity to druid hill park\n",
       "41                             close to commercial area\n",
       "42                                                  nan\n",
       "43                                 fairly good location\n",
       "44            fairly desirable section of modest houses\n",
       "45                          on washingtonbaltimore pike\n",
       "46                                  suburban atmosphere\n",
       "47        similar in general character to lansdowns c19\n",
       "48    similar in character to lansdowne except furth...\n",
       "49                similar in character to lansdowne c19\n",
       "50    proximity to employment industrial and commerc...\n",
       "51                       close to industrial employment\n",
       "52                 good transportation central location\n",
       "53                     central location near employment\n",
       "54                            near desirable properties\n",
       "55             central locations conversion to business\n",
       "56    central location conversion value for business...\n",
       "Name: Favorable_Influences, dtype: object"
      ]
     },
     "execution_count": 73,
     "metadata": {},
     "output_type": "execute_result"
    }
   ],
   "source": [
    "df['Favorable_Influences']"
   ]
  },
  {
   "cell_type": "code",
   "execution_count": 75,
   "metadata": {
    "collapsed": false
   },
   "outputs": [],
   "source": [
    "# tokenization - where every work is a token \n",
    "df['Favorable_Influences'] = df['Favorable_Influences'].str.split('[\\W_]+')"
   ]
  },
  {
   "cell_type": "code",
   "execution_count": 76,
   "metadata": {
    "collapsed": false
   },
   "outputs": [
    {
     "data": {
      "text/plain": [
       "0    NaN\n",
       "1    NaN\n",
       "2    NaN\n",
       "3    NaN\n",
       "4    NaN\n",
       "5    NaN\n",
       "6    NaN\n",
       "7    NaN\n",
       "8    NaN\n",
       "9    NaN\n",
       "10   NaN\n",
       "11   NaN\n",
       "12   NaN\n",
       "13   NaN\n",
       "14   NaN\n",
       "15   NaN\n",
       "16   NaN\n",
       "17   NaN\n",
       "18   NaN\n",
       "19   NaN\n",
       "20   NaN\n",
       "21   NaN\n",
       "22   NaN\n",
       "23   NaN\n",
       "24   NaN\n",
       "25   NaN\n",
       "26   NaN\n",
       "27   NaN\n",
       "28   NaN\n",
       "29   NaN\n",
       "30   NaN\n",
       "31   NaN\n",
       "32   NaN\n",
       "33   NaN\n",
       "34   NaN\n",
       "35   NaN\n",
       "36   NaN\n",
       "37   NaN\n",
       "38   NaN\n",
       "39   NaN\n",
       "40   NaN\n",
       "41   NaN\n",
       "42   NaN\n",
       "43   NaN\n",
       "44   NaN\n",
       "45   NaN\n",
       "46   NaN\n",
       "47   NaN\n",
       "48   NaN\n",
       "49   NaN\n",
       "50   NaN\n",
       "51   NaN\n",
       "52   NaN\n",
       "53   NaN\n",
       "54   NaN\n",
       "55   NaN\n",
       "56   NaN\n",
       "Name: Favorable_Influences, dtype: float64"
      ]
     },
     "execution_count": 76,
     "metadata": {},
     "output_type": "execute_result"
    }
   ],
   "source": [
    "df['Favorable_Influences']"
   ]
  },
  {
   "cell_type": "code",
   "execution_count": 33,
   "metadata": {
    "collapsed": true
   },
   "outputs": [],
   "source": [
    "df['clean_remarks'] = df['Remarks']"
   ]
  },
  {
   "cell_type": "code",
   "execution_count": 34,
   "metadata": {
    "collapsed": true
   },
   "outputs": [
    {
     "data": {
      "text/plain": [
       "0     [a, recent, development, with, much, room, for...\n",
       "1     [mostly, fee, properties, a, few, homes, value...\n",
       "2     [principally, fee, property, this, section, li...\n",
       "3                                  [all, fee, property]\n",
       "4     [merridale, only, recently, developed, prices,...\n",
       "5     [owned, and, controlled, by, the, roland, park...\n",
       "6     [this, section, was, completely, built, up, in...\n",
       "7                        [principally, fee, property, ]\n",
       "8     [section, is, very, spotty, with, poor, houses...\n",
       "9     [ground, rent, range, 90, to, 120, part, of, t...\n",
       "10        [ground, rents, 90, to, 120, principally, 90]\n",
       "11    [three, story, houses, on, reisterstown, road,...\n",
       "12    [ground, rents, 60, to, 90, predominating, 84,...\n",
       "13    [ground, rents, 72, to, 120, ground, rents, in...\n",
       "14    [this, section, lies, in, baltimore, county, j...\n",
       "15    [considered, the, best, lending, section, in, ...\n",
       "16    [ground, rents, range, from, 72, to, 95, predo...\n",
       "17    [very, few, ground, rents, in, dundalk, this, ...\n",
       "18    [principally, fee, property, few, ground, rent...\n",
       "19    [outside, baltimore, city, limits, a, few, lar...\n",
       "20    [many, highgrade, apartments, are, located, al...\n",
       "21                         [principally, fee, property]\n",
       "22    [ground, rents, range, from, 72, to, 96, predo...\n",
       "23    [average, held, at, 2000, to, 2500, per, acre,...\n",
       "24    [a, sparsely, settled, section, of, modest, ho...\n",
       "25    [this, section, has, not, taken, the, publics,...\n",
       "26    [still, very, sparsely, settled, but, may, be,...\n",
       "27                                                [nan]\n",
       "28    [ground, rents, range, from, 50, to, 50, avera...\n",
       "29    [ground, rent, range, 60, to, 90, this, sectio...\n",
       "30            [ground, rents, 72, to, 120, average, 90]\n",
       "31    [ground, rent, range, 72, to, 90, predominatin...\n",
       "32    [ground, rents, range, 43, to, 72, average, 60...\n",
       "33       [ground, rents, 30, to, 75, predominating, 60]\n",
       "34    [ground, rent, range, 42, to, 90, predominatin...\n",
       "35    [ground, rent, range, 72, to, 95, predominatin...\n",
       "36    [this, entire, area, is, populated, principall...\n",
       "37    [demand, is, expected, to, increase, because, ...\n",
       "38    [ground, rents, range, from, 48, to, 75, and, ...\n",
       "39    [ground, rents, range, from, 75, to, 150, and,...\n",
       "40    [houses, are, being, converted, into, apartmen...\n",
       "41    [ground, rent, 50, to, 75, average, 60, no, im...\n",
       "42                   [very, sparsely, settled, section]\n",
       "43    [the, section, never, seemed, to, go, over, ve...\n",
       "44    [a, rather, presentable, section, of, modest, ...\n",
       "45    [some, utilities, are, lacking, principally, f...\n",
       "46    [a, sparsely, settled, section, of, fair, char...\n",
       "47                         [principally, fee, property]\n",
       "48                         [principally, fee, property]\n",
       "49                                                [nan]\n",
       "50    [ground, rents, in, this, section, range, from...\n",
       "51    [area, become, worse, south, of, eastern, aven...\n",
       "52    [ground, rents, range, from, 42, to, 120, pred...\n",
       "53    [ground, rents, in, this, section, range, from...\n",
       "54    [ground, rents, range, 30, to, 60, predominati...\n",
       "55    [valuations, down, do, not, include, homes, on...\n",
       "56    [most, of, this, section, comprises, the, comm...\n",
       "Name: clean_remarks, dtype: object"
      ]
     },
     "execution_count": 34,
     "metadata": {},
     "output_type": "execute_result"
    }
   ],
   "source": [
    "df['clean_remarks']"
   ]
  },
  {
   "cell_type": "code",
   "execution_count": 39,
   "metadata": {
    "collapsed": false
   },
   "outputs": [
    {
     "name": "stdout",
     "output_type": "stream",
     "text": [
      "[nltk_data] Downloading package stopwords to\n",
      "[nltk_data]     /Users/sarahagarrat/nltk_data...\n",
      "[nltk_data]   Unzipping corpora/stopwords.zip.\n"
     ]
    },
    {
     "data": {
      "text/plain": [
       "0     [recent, development, much, room, expansion, d...\n",
       "1     [mostly, fee, properties, homes, valued, 10000...\n",
       "2     [principally, fee, property, section, lies, ba...\n",
       "3                                       [fee, property]\n",
       "4     [merridale, recently, developed, prices, inclu...\n",
       "5     [owned, controlled, roland, park, company, dev...\n",
       "6     [section, completely, built, 1921, fee, proper...\n",
       "7                        [principally, fee, property, ]\n",
       "8     [section, spotty, poor, houses, lying, low, gr...\n",
       "9     [ground, rent, range, 90, 120, part, section, ...\n",
       "10            [ground, rents, 90, 120, principally, 90]\n",
       "11    [three, story, houses, reisterstown, road, 25,...\n",
       "12    [ground, rents, 60, 90, predominating, 84, fai...\n",
       "13    [ground, rents, 72, 120, ground, rents, cedarc...\n",
       "14    [section, lies, baltimore, county, outside, ba...\n",
       "15    [considered, best, lending, section, city, gro...\n",
       "16    [ground, rents, range, 72, 95, predominating, 72]\n",
       "17    [ground, rents, dundalk, section, developed, o...\n",
       "18     [principally, fee, property, ground, rents, 120]\n",
       "19    [outside, baltimore, city, limits, larger, hom...\n",
       "20    [many, highgrade, apartments, located, along, ...\n",
       "21                         [principally, fee, property]\n",
       "22    [ground, rents, range, 72, 96, predominating, ...\n",
       "23    [average, held, 2000, 2500, per, acre, sparsel...\n",
       "24    [sparsely, settled, section, modest, homes, pr...\n",
       "25    [section, taken, publics, fancy, development, ...\n",
       "26    [still, sparsely, settled, may, expected, deve...\n",
       "27                                                [nan]\n",
       "28    [ground, rents, range, 50, 50, average, 50, co...\n",
       "29    [ground, rent, range, 60, 90, section, concent...\n",
       "30                [ground, rents, 72, 120, average, 90]\n",
       "31    [ground, rent, range, 72, 90, predominating, g...\n",
       "32    [ground, rents, range, 43, 72, average, 60, sp...\n",
       "33           [ground, rents, 30, 75, predominating, 60]\n",
       "34    [ground, rent, range, 42, 90, predominating, 6...\n",
       "35     [ground, rent, range, 72, 95, predominating, 90]\n",
       "36    [entire, area, populated, principally, persons...\n",
       "37    [demand, expected, increase, expansion, sparro...\n",
       "38          [ground, rents, range, 48, 75, average, 60]\n",
       "39    [ground, rents, range, 75, 150, average, 90, 1...\n",
       "40    [houses, converted, apartment, units, many, ro...\n",
       "41    [ground, rent, 50, 75, average, 60, immediate,...\n",
       "42                         [sparsely, settled, section]\n",
       "43    [section, never, seemed, go, well, sparsely, s...\n",
       "44    [rather, presentable, section, modest, homes, ...\n",
       "45     [utilities, lacking, principally, fee, property]\n",
       "46    [sparsely, settled, section, fair, character, ...\n",
       "47                         [principally, fee, property]\n",
       "48                         [principally, fee, property]\n",
       "49                                                [nan]\n",
       "50    [ground, rents, section, range, 36, 60, averag...\n",
       "51    [area, become, worse, south, eastern, avenue, ...\n",
       "52    [ground, rents, range, 42, 120, predominating,...\n",
       "53    [ground, rents, section, range, 30, 60, averag...\n",
       "54    [ground, rents, range, 30, 60, predominating, ...\n",
       "55    [valuations, include, homes, monument, square,...\n",
       "56    [section, comprises, commercial, area, city, h...\n",
       "Name: clean_remarks, dtype: object"
      ]
     },
     "execution_count": 39,
     "metadata": {},
     "output_type": "execute_result"
    }
   ],
   "source": [
    "import nltk\n",
    "nltk.download('stopwords')\n",
    "stop_words = stopwords.words('english')\n",
    "df['clean_remarks'].apply(lambda x: [item for item in x if item not in stop_words])"
   ]
  },
  {
   "cell_type": "code",
   "execution_count": 52,
   "metadata": {
    "collapsed": false
   },
   "outputs": [],
   "source": [
    " from collections import Counter\n",
    "df['word_count'] = df['clean_remarks'].apply(Counter)"
   ]
  },
  {
   "cell_type": "code",
   "execution_count": 68,
   "metadata": {
    "collapsed": false
   },
   "outputs": [
    {
     "data": {
      "text/plain": [
       "Counter({'10000': 1,\n",
       "         '120': 1,\n",
       "         '90': 2,\n",
       "         'are': 1,\n",
       "         'baltimore': 2,\n",
       "         'city': 1,\n",
       "         'county': 1,\n",
       "         'ground': 1,\n",
       "         'houses': 1,\n",
       "         'in': 1,\n",
       "         'just': 1,\n",
       "         'lies': 1,\n",
       "         'new': 1,\n",
       "         'of': 1,\n",
       "         'outside': 1,\n",
       "         'principally': 1,\n",
       "         'rent': 1,\n",
       "         'section': 1,\n",
       "         'this': 1,\n",
       "         'to': 2,\n",
       "         'up': 1})"
      ]
     },
     "execution_count": 68,
     "metadata": {},
     "output_type": "execute_result"
    }
   ],
   "source": [
    "df['word_count'][14]"
   ]
  },
  {
   "cell_type": "markdown",
   "metadata": {},
   "source": [
    "## 5. Data Visualization "
   ]
  },
  {
   "cell_type": "markdown",
   "metadata": {},
   "source": []
  },
  {
   "cell_type": "code",
   "execution_count": null,
   "metadata": {
    "collapsed": true
   },
   "outputs": [],
   "source": [
    "import matplotlib.pyplot as plt"
   ]
  },
  {
   "cell_type": "markdown",
   "metadata": {},
   "source": [
    "<img src=\"redl.png\">"
   ]
  }
 ],
 "metadata": {
  "kernelspec": {
   "display_name": "Python 3",
   "language": "python",
   "name": "python3"
  },
  "language_info": {
   "codemirror_mode": {
    "name": "ipython",
    "version": 3
   },
   "file_extension": ".py",
   "mimetype": "text/x-python",
   "name": "python",
   "nbconvert_exporter": "python",
   "pygments_lexer": "ipython3",
   "version": "3.6.0"
  }
 },
 "nbformat": 4,
 "nbformat_minor": 2
}
